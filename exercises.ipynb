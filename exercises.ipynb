{
 "cells": [
  {
   "cell_type": "markdown",
   "metadata": {
    "ein.tags": "worksheet-0",
    "slideshow": {
     "slide_type": "-"
    }
   },
   "source": [
    "# Making HTTP Requests\n",
    "\n",
    "In Python, there are many libraries to make HTTP requests. We will use a 3rd-party library called \"requests\", which is very easy to use. \n",
    "\n",
    "Making a \"GET\" request is as simple as: \n",
    "\n",
    "```python\n",
    "import requests\n",
    "\n",
    "res = requests.get(url) # returns a \"Response\" object\n",
    "res.content # has the \"body\" of the response\n",
    "```\n",
    "\n",
    "You might need to install the requests library! \n",
    "\n",
    "You can do that with the following code in a Jupyter cell: \n",
    "\n",
    "```python\n",
    "! pip install requests\n",
    "```\n",
    "\n",
    "Or, if you're using anaconda, optionally you can also do: \n",
    "\n",
    "```python\n",
    "! conda install -c anaconda requests\n",
    "```"
   ]
  },
  {
   "cell_type": "markdown",
   "metadata": {
    "ein.tags": "worksheet-0",
    "slideshow": {
     "slide_type": "-"
    }
   },
   "source": [
    "## Parsing JSON data\n",
    "\n",
    "To parse JSON data in Python, we will use the \"json\" module: \n",
    "\n",
    "```python\n",
    "import json\n",
    "```\n",
    "\n",
    "Read more about the module on the [documentation page](https://docs.python.org/3/library/json.html)!\n",
    "\n",
    "All we care about for this part is the method \"loads\", which turns JSON data into a Python object: \n",
    "\n",
    "```python\n",
    "json.loads(my_string_encoded_json)\n",
    "```"
   ]
  },
  {
   "cell_type": "markdown",
   "metadata": {
    "ein.tags": "worksheet-0",
    "slideshow": {
     "slide_type": "-"
    }
   },
   "source": [
    "## Pokemon API\n",
    "\n",
    "There is a simple, open API called \"pokeapi\" that allows us to make requests and see how to use APIs. Like everything, we first look at the documentation: \n",
    "\n",
    "https://pokeapi.co/docs/v2.html"
   ]
  },
  {
   "cell_type": "code",
   "execution_count": 3,
   "metadata": {
    "autoscroll": false,
    "ein.hycell": false,
    "ein.tags": "worksheet-0",
    "slideshow": {
     "slide_type": "-"
    }
   },
   "outputs": [
    {
     "name": "stdout",
     "output_type": "stream",
     "text": [
      "{'count': 964, 'next': 'https://pokeapi.co/api/v2/pokemon?offset=20&limit=20', 'previous': None, 'results': [{'name': 'bulbasaur', 'url': 'https://pokeapi.co/api/v2/pokemon/1/'}, {'name': 'ivysaur', 'url': 'https://pokeapi.co/api/v2/pokemon/2/'}, {'name': 'venusaur', 'url': 'https://pokeapi.co/api/v2/pokemon/3/'}, {'name': 'charmander', 'url': 'https://pokeapi.co/api/v2/pokemon/4/'}, {'name': 'charmeleon', 'url': 'https://pokeapi.co/api/v2/pokemon/5/'}, {'name': 'charizard', 'url': 'https://pokeapi.co/api/v2/pokemon/6/'}, {'name': 'squirtle', 'url': 'https://pokeapi.co/api/v2/pokemon/7/'}, {'name': 'wartortle', 'url': 'https://pokeapi.co/api/v2/pokemon/8/'}, {'name': 'blastoise', 'url': 'https://pokeapi.co/api/v2/pokemon/9/'}, {'name': 'caterpie', 'url': 'https://pokeapi.co/api/v2/pokemon/10/'}, {'name': 'metapod', 'url': 'https://pokeapi.co/api/v2/pokemon/11/'}, {'name': 'butterfree', 'url': 'https://pokeapi.co/api/v2/pokemon/12/'}, {'name': 'weedle', 'url': 'https://pokeapi.co/api/v2/pokemon/13/'}, {'name': 'kakuna', 'url': 'https://pokeapi.co/api/v2/pokemon/14/'}, {'name': 'beedrill', 'url': 'https://pokeapi.co/api/v2/pokemon/15/'}, {'name': 'pidgey', 'url': 'https://pokeapi.co/api/v2/pokemon/16/'}, {'name': 'pidgeotto', 'url': 'https://pokeapi.co/api/v2/pokemon/17/'}, {'name': 'pidgeot', 'url': 'https://pokeapi.co/api/v2/pokemon/18/'}, {'name': 'rattata', 'url': 'https://pokeapi.co/api/v2/pokemon/19/'}, {'name': 'raticate', 'url': 'https://pokeapi.co/api/v2/pokemon/20/'}]}\n",
      "https://pokeapi.co/api/v2/pokemon?offset=20&limit=20\n"
     ]
    }
   ],
   "source": [
    "# Let's see how to make a get request to the API: \n",
    "import requests\n",
    "import json\n",
    "import pandas as pd\n",
    "\n",
    "res = requests.get('https://pokeapi.co/api/v2/pokemon')\n",
    "temp = json.loads(res.content)\n",
    "print(temp)\n",
    "#names = temp['results']['name']\n",
    "next_element = temp['next']\n",
    "print(next_element)\n",
    "names = temp['results']\n",
    "names_list = [(i['name'], i['url']) for i in names]\n",
    "#dictionary = dict(('name', key['name']) for key in names)\n",
    "#url_list = [i['url'] for i in names]\n",
    "#dictionary = dict(zip(keys, values))\n",
    "\n",
    "#print(names_list)\n",
    "#print(dictionary)"
   ]
  },
  {
   "cell_type": "code",
   "execution_count": 4,
   "metadata": {
    "autoscroll": false,
    "ein.hycell": false,
    "ein.tags": "worksheet-0",
    "slideshow": {
     "slide_type": "-"
    }
   },
   "outputs": [
    {
     "name": "stdout",
     "output_type": "stream",
     "text": [
      "                        name                                       URL\n",
      "0                  bulbasaur      https://pokeapi.co/api/v2/pokemon/1/\n",
      "1                    ivysaur      https://pokeapi.co/api/v2/pokemon/2/\n",
      "2                   venusaur      https://pokeapi.co/api/v2/pokemon/3/\n",
      "3                 charmander      https://pokeapi.co/api/v2/pokemon/4/\n",
      "4                 charmeleon      https://pokeapi.co/api/v2/pokemon/5/\n",
      "5                  charizard      https://pokeapi.co/api/v2/pokemon/6/\n",
      "6                   squirtle      https://pokeapi.co/api/v2/pokemon/7/\n",
      "7                  wartortle      https://pokeapi.co/api/v2/pokemon/8/\n",
      "8                  blastoise      https://pokeapi.co/api/v2/pokemon/9/\n",
      "9                   caterpie     https://pokeapi.co/api/v2/pokemon/10/\n",
      "10                   metapod     https://pokeapi.co/api/v2/pokemon/11/\n",
      "11                butterfree     https://pokeapi.co/api/v2/pokemon/12/\n",
      "12                    weedle     https://pokeapi.co/api/v2/pokemon/13/\n",
      "13                    kakuna     https://pokeapi.co/api/v2/pokemon/14/\n",
      "14                  beedrill     https://pokeapi.co/api/v2/pokemon/15/\n",
      "15                    pidgey     https://pokeapi.co/api/v2/pokemon/16/\n",
      "16                 pidgeotto     https://pokeapi.co/api/v2/pokemon/17/\n",
      "17                   pidgeot     https://pokeapi.co/api/v2/pokemon/18/\n",
      "18                   rattata     https://pokeapi.co/api/v2/pokemon/19/\n",
      "19                  raticate     https://pokeapi.co/api/v2/pokemon/20/\n",
      "20                   spearow     https://pokeapi.co/api/v2/pokemon/21/\n",
      "21                    fearow     https://pokeapi.co/api/v2/pokemon/22/\n",
      "22                     ekans     https://pokeapi.co/api/v2/pokemon/23/\n",
      "23                     arbok     https://pokeapi.co/api/v2/pokemon/24/\n",
      "24                   pikachu     https://pokeapi.co/api/v2/pokemon/25/\n",
      "25                    raichu     https://pokeapi.co/api/v2/pokemon/26/\n",
      "26                 sandshrew     https://pokeapi.co/api/v2/pokemon/27/\n",
      "27                 sandslash     https://pokeapi.co/api/v2/pokemon/28/\n",
      "28                 nidoran-f     https://pokeapi.co/api/v2/pokemon/29/\n",
      "29                  nidorina     https://pokeapi.co/api/v2/pokemon/30/\n",
      "..                       ...                                       ...\n",
      "934           lurantis-totem  https://pokeapi.co/api/v2/pokemon/10128/\n",
      "935           salazzle-totem  https://pokeapi.co/api/v2/pokemon/10129/\n",
      "936     minior-orange-meteor  https://pokeapi.co/api/v2/pokemon/10130/\n",
      "937     minior-yellow-meteor  https://pokeapi.co/api/v2/pokemon/10131/\n",
      "938      minior-green-meteor  https://pokeapi.co/api/v2/pokemon/10132/\n",
      "939       minior-blue-meteor  https://pokeapi.co/api/v2/pokemon/10133/\n",
      "940     minior-indigo-meteor  https://pokeapi.co/api/v2/pokemon/10134/\n",
      "941     minior-violet-meteor  https://pokeapi.co/api/v2/pokemon/10135/\n",
      "942               minior-red  https://pokeapi.co/api/v2/pokemon/10136/\n",
      "943            minior-orange  https://pokeapi.co/api/v2/pokemon/10137/\n",
      "944            minior-yellow  https://pokeapi.co/api/v2/pokemon/10138/\n",
      "945             minior-green  https://pokeapi.co/api/v2/pokemon/10139/\n",
      "946              minior-blue  https://pokeapi.co/api/v2/pokemon/10140/\n",
      "947            minior-indigo  https://pokeapi.co/api/v2/pokemon/10141/\n",
      "948            minior-violet  https://pokeapi.co/api/v2/pokemon/10142/\n",
      "949           mimikyu-busted  https://pokeapi.co/api/v2/pokemon/10143/\n",
      "950  mimikyu-totem-disguised  https://pokeapi.co/api/v2/pokemon/10144/\n",
      "951     mimikyu-totem-busted  https://pokeapi.co/api/v2/pokemon/10145/\n",
      "952            kommo-o-totem  https://pokeapi.co/api/v2/pokemon/10146/\n",
      "953        magearna-original  https://pokeapi.co/api/v2/pokemon/10147/\n",
      "954      pikachu-partner-cap  https://pokeapi.co/api/v2/pokemon/10148/\n",
      "955            marowak-totem  https://pokeapi.co/api/v2/pokemon/10149/\n",
      "956           ribombee-totem  https://pokeapi.co/api/v2/pokemon/10150/\n",
      "957       rockruff-own-tempo  https://pokeapi.co/api/v2/pokemon/10151/\n",
      "958            lycanroc-dusk  https://pokeapi.co/api/v2/pokemon/10152/\n",
      "959          araquanid-totem  https://pokeapi.co/api/v2/pokemon/10153/\n",
      "960         togedemaru-totem  https://pokeapi.co/api/v2/pokemon/10154/\n",
      "961            necrozma-dusk  https://pokeapi.co/api/v2/pokemon/10155/\n",
      "962            necrozma-dawn  https://pokeapi.co/api/v2/pokemon/10156/\n",
      "963           necrozma-ultra  https://pokeapi.co/api/v2/pokemon/10157/\n",
      "\n",
      "[964 rows x 2 columns]\n"
     ]
    }
   ],
   "source": [
    "# Challenge: \n",
    "# Create a Dataframe with all the Pokemon names and their URLs. \n",
    "\n",
    "def get_pokes(url):\n",
    "    # Make the HTTP request to the given url. \n",
    "    # Parse the response as json\n",
    "    # return the \"next\" and the \"results\" (as a 2-tuple!)\n",
    "    # make sure to return a \"falsey\" value (such as None)\n",
    "    # if there is not a \"next!\"\n",
    "    res = requests.get(url)\n",
    "    temp = json.loads(res.content)\n",
    "    names = temp['results']\n",
    "    names_list = [(i['name'], i['url']) for i in names]\n",
    "    next_element = temp['next']\n",
    "    return (next_element, names_list)\n",
    "\n",
    "def catch_em_all(url):\n",
    "    pokes = []\n",
    "    \n",
    "    # While loop! Like a for-loop, \n",
    "    # but goes on for an indetermined amount\n",
    "    # of time:\n",
    "    while url:\n",
    "        url, results = get_pokes(url)\n",
    "        pokes += results\n",
    "    return pokes\n",
    "        \n",
    "    \n",
    "list_of_pokes = catch_em_all('https://pokeapi.co/api/v2/pokemon')\n",
    "\n",
    "# This data is most naturally represented as a list of dictionaries. \n",
    "# How can we create a dataframe from a list of dictionaries? \n",
    "# Try to find out on your own, from the internet!\n",
    "\n",
    "# TODO: turn list_of_pokes into a dataframe.\n",
    "df = pd.DataFrame(list_of_pokes, columns=['name', 'URL'])\n",
    "print(df)"
   ]
  },
  {
   "cell_type": "markdown",
   "metadata": {
    "ein.tags": "worksheet-0",
    "slideshow": {
     "slide_type": "-"
    }
   },
   "source": [
    "## Project: Live Exchange Rates\n",
    "\n",
    "Imagine that you work with financial assets which are denominated in different currencies. You analyze this data regularly, and want to create a \"transformation\" function that transforms all your assets into EUR prices, based on today's exchange rate. \n",
    "\n",
    "Your data with the local-currency-denominated value of each asset lives in a file called \"assets.csv\" which should be located in the same folder as this notebook. \n",
    "\n",
    "Write a \"data loading\" function that: \n",
    "\n",
    "1. Reads the data, given the path to the file. \n",
    "2. Returns a dataframe with an additional column that has the assets value in euros, as of today.\n",
    "\n",
    "Use this free API to get today's exchange rates: https://exchangeratesapi.io/. You will need to read the documentation and try it out to see how it works. \n",
    "\n",
    "HINT: Write a separate function to get the current exchange rates! That can be reused!"
   ]
  },
  {
   "cell_type": "code",
   "execution_count": 8,
   "metadata": {},
   "outputs": [
    {
     "name": "stdout",
     "output_type": "stream",
     "text": [
      "       value curr  EUR_value\n",
      "0  48.910052  THB   1.456523\n",
      "1  16.505115  THB   0.491516\n",
      "2  30.370579  INR   0.385558\n",
      "3  14.126967  SEK   1.307931\n",
      "4  23.406904  HKD   2.687977\n"
     ]
    }
   ],
   "source": [
    "def get_current_exchange_rate(currency):\n",
    "    \"\"\"\n",
    "    Get today's exchange rate from the API for a given currency\n",
    "    \"\"\"\n",
    "    curr_string = 'https://api.exchangeratesapi.io/latest?base=' + currency\n",
    "    res = requests.get(curr_string)\n",
    "    temp = json.loads(res.content)\n",
    "    rates = temp['rates']\n",
    "    return rates\n",
    "\n",
    "# Test\n",
    "#get_current_exchange_rate(\"USD\")\n",
    "\n",
    "def converter(path,currency):\n",
    "    \"\"\"\n",
    "    Convert the local-currency-denominated value of assets\n",
    "    located in a file in a given path,\n",
    "    to a given currency\n",
    "    and add a new column containing its converted value\n",
    "    \"\"\"\n",
    "    # Get exchange rates and convert into dataframe\n",
    "    rates = get_current_exchange_rate(currency)\n",
    "    df = pd.DataFrame.from_dict(rates, orient='index').reset_index()\n",
    "    df.columns = ['currency', 'ex_rate']\n",
    "    \n",
    "    # Read in the asset file\n",
    "    assets = pd.read_csv(path+'./assets.csv')\n",
    "    \n",
    "    # Merge files and create new variable\n",
    "    full = assets.merge(df, left_on='curr', right_on='currency',how = 'left')\n",
    "    varname = currency + '_value'\n",
    "    full[varname] = full['value']/full['ex_rate']\n",
    "    full = full.drop(columns=['currency','ex_rate'])\n",
    "    \n",
    "    return full\n",
    "\n",
    "# Test functions\n",
    "testdata = converter(path='',currency='EUR')\n",
    "print(testdata.head())\n"
   ]
  },
  {
   "cell_type": "code",
   "execution_count": null,
   "metadata": {},
   "outputs": [],
   "source": []
  }
 ],
 "metadata": {
  "kernelspec": {
   "display_name": "Python 3",
   "language": "python",
   "name": "python3"
  },
  "language_info": {
   "codemirror_mode": {
    "name": "ipython",
    "version": 3
   },
   "file_extension": ".py",
   "mimetype": "text/x-python",
   "name": "python",
   "nbconvert_exporter": "python",
   "pygments_lexer": "ipython3",
   "version": "3.6.4"
  },
  "name": "exercises.ipynb",
  "toc": {
   "base_numbering": 1,
   "nav_menu": {},
   "number_sections": true,
   "sideBar": true,
   "skip_h1_title": false,
   "title_cell": "Table of Contents",
   "title_sidebar": "Contents",
   "toc_cell": false,
   "toc_position": {},
   "toc_section_display": true,
   "toc_window_display": false
  }
 },
 "nbformat": 4,
 "nbformat_minor": 2
}

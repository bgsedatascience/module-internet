{
 "cells": [
  {
   "cell_type": "markdown",
   "metadata": {
    "ein.tags": "worksheet-0",
    "slideshow": {
     "slide_type": "-"
    }
   },
   "source": [
    "# Making HTTP Requests\n",
    "\n",
    "In Python, there are many libraries to make HTTP requests. We will use a 3rd-party library called \"requests\", which is very easy to use. \n",
    "\n",
    "Making a \"GET\" request is as simple as: \n",
    "\n",
    "```python\n",
    "import requests\n",
    "\n",
    "res = requests.get(url) # returns a \"Response\" object\n",
    "res.content # has the \"body\" of the response\n",
    "```\n",
    "\n",
    "You might need to install the requests library! \n",
    "\n",
    "You can do that with the following code in a Jupyter cell: \n",
    "\n",
    "```python\n",
    "! pip install requests\n",
    "```\n",
    "\n",
    "Or, if you're using anaconda, optionally you can also do: \n",
    "\n",
    "```python\n",
    "! conda install -c anaconda requests\n",
    "```"
   ]
  },
  {
   "cell_type": "code",
   "execution_count": null,
   "metadata": {},
   "outputs": [],
   "source": [
    "import requests\n",
    "\n",
    "\n",
    "res = requests.get(url) # returns a \"Response\" object\n",
    "res.content # has the \"body\" of the response\n",
    "\n",
    "! pip install requests\n",
    "\n",
    "! conda install -c anaconda requests"
   ]
  },
  {
   "cell_type": "markdown",
   "metadata": {
    "ein.tags": "worksheet-0",
    "slideshow": {
     "slide_type": "-"
    }
   },
   "source": [
    "## Parsing JSON data\n",
    "\n",
    "To parse JSON data in Python, we will use the \"json\" module: \n",
    "\n",
    "```python\n",
    "import json\n",
    "```\n",
    "\n",
    "Read more about the module on the [documentation page](https://docs.python.org/3/library/json.html)!\n",
    "\n",
    "All we care about for this part is the method \"loads\", which turns JSON data into a Python object: \n",
    "\n",
    "```python\n",
    "json.loads(my_string_encoded_json)\n",
    "```"
   ]
  },
  {
   "cell_type": "markdown",
   "metadata": {
    "ein.tags": "worksheet-0",
    "slideshow": {
     "slide_type": "-"
    }
   },
   "source": [
    "## Pokemon API\n",
    "\n",
    "There is a simple, open API called \"pokeapi\" that allows us to make requests and see how to use APIs. Like everything, we first look at the documentation: \n",
    "\n",
    "https://pokeapi.co/docs/v2.html"
   ]
  },
  {
   "cell_type": "code",
   "execution_count": 11,
   "metadata": {
    "autoscroll": false,
    "ein.hycell": false,
    "ein.tags": "worksheet-0",
    "slideshow": {
     "slide_type": "-"
    }
   },
   "outputs": [
    {
     "data": {
      "text/plain": [
       "{'count': 64,\n",
       " 'next': 'https://pokeapi.co/api/v2/berry?offset=20&limit=20',\n",
       " 'previous': None,\n",
       " 'results': [{'name': 'cheri', 'url': 'https://pokeapi.co/api/v2/berry/1/'},\n",
       "  {'name': 'chesto', 'url': 'https://pokeapi.co/api/v2/berry/2/'},\n",
       "  {'name': 'pecha', 'url': 'https://pokeapi.co/api/v2/berry/3/'},\n",
       "  {'name': 'rawst', 'url': 'https://pokeapi.co/api/v2/berry/4/'},\n",
       "  {'name': 'aspear', 'url': 'https://pokeapi.co/api/v2/berry/5/'},\n",
       "  {'name': 'leppa', 'url': 'https://pokeapi.co/api/v2/berry/6/'},\n",
       "  {'name': 'oran', 'url': 'https://pokeapi.co/api/v2/berry/7/'},\n",
       "  {'name': 'persim', 'url': 'https://pokeapi.co/api/v2/berry/8/'},\n",
       "  {'name': 'lum', 'url': 'https://pokeapi.co/api/v2/berry/9/'},\n",
       "  {'name': 'sitrus', 'url': 'https://pokeapi.co/api/v2/berry/10/'},\n",
       "  {'name': 'figy', 'url': 'https://pokeapi.co/api/v2/berry/11/'},\n",
       "  {'name': 'wiki', 'url': 'https://pokeapi.co/api/v2/berry/12/'},\n",
       "  {'name': 'mago', 'url': 'https://pokeapi.co/api/v2/berry/13/'},\n",
       "  {'name': 'aguav', 'url': 'https://pokeapi.co/api/v2/berry/14/'},\n",
       "  {'name': 'iapapa', 'url': 'https://pokeapi.co/api/v2/berry/15/'},\n",
       "  {'name': 'razz', 'url': 'https://pokeapi.co/api/v2/berry/16/'},\n",
       "  {'name': 'bluk', 'url': 'https://pokeapi.co/api/v2/berry/17/'},\n",
       "  {'name': 'nanab', 'url': 'https://pokeapi.co/api/v2/berry/18/'},\n",
       "  {'name': 'wepear', 'url': 'https://pokeapi.co/api/v2/berry/19/'},\n",
       "  {'name': 'pinap', 'url': 'https://pokeapi.co/api/v2/berry/20/'}]}"
      ]
     },
     "execution_count": 11,
     "metadata": {},
     "output_type": "execute_result"
    }
   ],
   "source": [
    "# Let's see how to make a get request to the API: \n",
    "import requests\n",
    "import json\n",
    "\n",
    "res = requests.get('https://pokeapi.co/api/v2/berry')\n",
    "json.loads(res.content)"
   ]
  },
  {
   "cell_type": "code",
   "execution_count": null,
   "metadata": {
    "autoscroll": false,
    "ein.hycell": false,
    "ein.tags": "worksheet-0",
    "slideshow": {
     "slide_type": "-"
    }
   },
   "outputs": [],
   "source": [
    "# Challenge: \n",
    "# Create a Dataframe with all the Pokemon names and their URLs. \n",
    "\n",
    "def get_pokes(url):\n",
    "    # Make the HTTP request to the given url. \n",
    "    # Parse the response as json\n",
    "    # return the \"next\" and the \"results\" (as a 2-tuple!)\n",
    "    # make sure to return a \"falsey\" value (such as None)\n",
    "    # if there is not a \"next!\"\n",
    "    content = requests.get(url).content\n",
    "    d = json.loads(content)\n",
    "    return d['next'], d['results']\n",
    "    pass\n",
    "\n",
    "\n",
    "def catch_em_all(url):\n",
    "    pokes = []\n",
    "    \n",
    "    # While loop! Like a for-loop, \n",
    "    # but goes on for an indetermined amount\n",
    "    # of time:\n",
    "    while url:\n",
    "        url, results = get_pokes(url)\n",
    "        pokes += results\n",
    "    return pokes\n",
    "        \n",
    "    \n",
    "list_of_pokes = catch_em_all('https://pokeapi.co/api/v2/pokemon')\n",
    "\n",
    "# This data is most naturally represented as a list of dictionaries. \n",
    "# How can we create a dataframe from a list of dictionaries? \n",
    "# Try to find out on your own, from the internet!\n",
    "\n",
    "# TODO: turn list_of_pokes into a dataframe.\n",
    "len(list_of_pokes)"
   ]
  },
  {
   "cell_type": "markdown",
   "metadata": {
    "ein.tags": "worksheet-0",
    "slideshow": {
     "slide_type": "-"
    }
   },
   "source": [
    "## Project: Live Exchange Rates\n",
    "\n",
    "Imagine that you work with financial assets which are denominated in different currencies. You analyze this data regularly, and want to create a \"transformation\" function that transforms all your assets into EUR prices, based on today's exchange rate. \n",
    "\n",
    "Your data with the local-currency-denominated value of each asset lives in a file called \"assets.csv\" which should be located in the same folder as this notebook. \n",
    "\n",
    "Write a \"data loading\" function that: \n",
    "\n",
    "1. Reads the data, given the path to the file. \n",
    "2. Returns a dataframe with an additional column that has the assets value in euros, as of today.\n",
    "\n",
    "Use this free API to get today's exchange rates: https://exchangeratesapi.io/. You will need to read the documentation and try it out to see how it works. \n",
    "\n",
    "HINT: Write a separate function to get the current exchange rates! That can be reused!"
   ]
  },
  {
   "cell_type": "code",
   "execution_count": null,
   "metadata": {},
   "outputs": [],
   "source": [
    "#Method 1\n",
    "\n",
    "#Import packages\n",
    "import pandas as pd\n",
    "\n",
    "#Import live exchange rates via API\n",
    "fx_res = requests.get('https://api.exchangeratesapi.io/latest') # returns a \"Response\" object\n",
    "\n",
    "#Convert live exchange rates to pandasdataframe and rename index column\n",
    "fx_res.content # has the \"body\" of the response\n",
    "fx_res_json = json.loads(fx_res.content)\n",
    "fx_res_pd = pd.DataFrame(fx_res_json)\n",
    "fx_res_pd.index.name = 'id'\n",
    "\n",
    "#Test\n",
    "#print(fx_res_pd)\n",
    "#type(fx_res_pd)\n",
    "\n",
    "#Read asset file\n",
    "assets = pd.read_csv(\"assets.csv\")\n",
    "\n",
    "#Test\n",
    "#print(assets)\n",
    "\n",
    "#Merge dataframes\n",
    "fx_merge= assets.merge(fx_res_pd, left_on= 'curr', right_on= 'id')\n",
    "\n",
    "#Test\n",
    "#print(fx_merge)\n",
    "\n",
    "#Create new fx column\n",
    "fx_merge['eur_value'] = fx_merge['value']/ fx_merge['rates']\n",
    "\n",
    "#Test\n",
    "print(fx_merge)\n",
    "    "
   ]
  },
  {
   "cell_type": "code",
   "execution_count": 20,
   "metadata": {},
   "outputs": [
    {
     "data": {
      "text/plain": [
       "pandas.core.frame.DataFrame"
      ]
     },
     "execution_count": 20,
     "metadata": {},
     "output_type": "execute_result"
    }
   ],
   "source": [
    "#Method 2\n",
    "import pandas as pd\n",
    "\n",
    "#Create data-loading function\n",
    "def open_sesame(file_name_path):\n",
    "    file_name_path_str= str(file_name_path)\n",
    "    file_name_read = pd.read_csv(file_name_path_str)\n",
    "    return(file_name_read)\n",
    "\n",
    "#Test\n",
    "type(open_sesame(\"assets.csv\"))"
   ]
  },
  {
   "cell_type": "code",
   "execution_count": 17,
   "metadata": {},
   "outputs": [
    {
     "data": {
      "text/plain": [
       "pandas.core.frame.DataFrame"
      ]
     },
     "execution_count": 17,
     "metadata": {},
     "output_type": "execute_result"
    }
   ],
   "source": [
    "#Create exchange rate retrieving function\n",
    "def howz_da_euro_doin(exchange_rate_api_address):\n",
    "    fx_rates = requests.get(exchange_rate_api_address)\n",
    "    fx_res_json = json.loads(fx_rates.content)\n",
    "    fx_res_pd = pd.DataFrame(fx_res_json)\n",
    "    fx_res_pd.index.name = 'id'\n",
    "    return fx_res_pd\n",
    "\n",
    "#Test\n",
    "type(howz_da_euro_doin('https://api.exchangeratesapi.io/latest'))"
   ]
  },
  {
   "cell_type": "code",
   "execution_count": 21,
   "metadata": {},
   "outputs": [
    {
     "data": {
      "text/html": [
       "<div>\n",
       "<style scoped>\n",
       "    .dataframe tbody tr th:only-of-type {\n",
       "        vertical-align: middle;\n",
       "    }\n",
       "\n",
       "    .dataframe tbody tr th {\n",
       "        vertical-align: top;\n",
       "    }\n",
       "\n",
       "    .dataframe thead th {\n",
       "        text-align: right;\n",
       "    }\n",
       "</style>\n",
       "<table border=\"1\" class=\"dataframe\">\n",
       "  <thead>\n",
       "    <tr style=\"text-align: right;\">\n",
       "      <th></th>\n",
       "      <th>value</th>\n",
       "      <th>curr</th>\n",
       "      <th>rates</th>\n",
       "      <th>base</th>\n",
       "      <th>date</th>\n",
       "      <th>eur_value</th>\n",
       "    </tr>\n",
       "  </thead>\n",
       "  <tbody>\n",
       "    <tr>\n",
       "      <td>0</td>\n",
       "      <td>48.910052</td>\n",
       "      <td>THB</td>\n",
       "      <td>33.668</td>\n",
       "      <td>EUR</td>\n",
       "      <td>2019-10-31</td>\n",
       "      <td>1.452716</td>\n",
       "    </tr>\n",
       "    <tr>\n",
       "      <td>1</td>\n",
       "      <td>16.505115</td>\n",
       "      <td>THB</td>\n",
       "      <td>33.668</td>\n",
       "      <td>EUR</td>\n",
       "      <td>2019-10-31</td>\n",
       "      <td>0.490232</td>\n",
       "    </tr>\n",
       "    <tr>\n",
       "      <td>2</td>\n",
       "      <td>26.431815</td>\n",
       "      <td>THB</td>\n",
       "      <td>33.668</td>\n",
       "      <td>EUR</td>\n",
       "      <td>2019-10-31</td>\n",
       "      <td>0.785072</td>\n",
       "    </tr>\n",
       "    <tr>\n",
       "      <td>3</td>\n",
       "      <td>15.357862</td>\n",
       "      <td>THB</td>\n",
       "      <td>33.668</td>\n",
       "      <td>EUR</td>\n",
       "      <td>2019-10-31</td>\n",
       "      <td>0.456156</td>\n",
       "    </tr>\n",
       "    <tr>\n",
       "      <td>4</td>\n",
       "      <td>41.928861</td>\n",
       "      <td>THB</td>\n",
       "      <td>33.668</td>\n",
       "      <td>EUR</td>\n",
       "      <td>2019-10-31</td>\n",
       "      <td>1.245362</td>\n",
       "    </tr>\n",
       "    <tr>\n",
       "      <td>...</td>\n",
       "      <td>...</td>\n",
       "      <td>...</td>\n",
       "      <td>...</td>\n",
       "      <td>...</td>\n",
       "      <td>...</td>\n",
       "      <td>...</td>\n",
       "    </tr>\n",
       "    <tr>\n",
       "      <td>995</td>\n",
       "      <td>27.189609</td>\n",
       "      <td>RON</td>\n",
       "      <td>4.756</td>\n",
       "      <td>EUR</td>\n",
       "      <td>2019-10-31</td>\n",
       "      <td>5.716907</td>\n",
       "    </tr>\n",
       "    <tr>\n",
       "      <td>996</td>\n",
       "      <td>46.409661</td>\n",
       "      <td>RON</td>\n",
       "      <td>4.756</td>\n",
       "      <td>EUR</td>\n",
       "      <td>2019-10-31</td>\n",
       "      <td>9.758129</td>\n",
       "    </tr>\n",
       "    <tr>\n",
       "      <td>997</td>\n",
       "      <td>13.215449</td>\n",
       "      <td>RON</td>\n",
       "      <td>4.756</td>\n",
       "      <td>EUR</td>\n",
       "      <td>2019-10-31</td>\n",
       "      <td>2.778690</td>\n",
       "    </tr>\n",
       "    <tr>\n",
       "      <td>998</td>\n",
       "      <td>38.344216</td>\n",
       "      <td>RON</td>\n",
       "      <td>4.756</td>\n",
       "      <td>EUR</td>\n",
       "      <td>2019-10-31</td>\n",
       "      <td>8.062283</td>\n",
       "    </tr>\n",
       "    <tr>\n",
       "      <td>999</td>\n",
       "      <td>42.034297</td>\n",
       "      <td>RON</td>\n",
       "      <td>4.756</td>\n",
       "      <td>EUR</td>\n",
       "      <td>2019-10-31</td>\n",
       "      <td>8.838162</td>\n",
       "    </tr>\n",
       "  </tbody>\n",
       "</table>\n",
       "<p>1000 rows × 6 columns</p>\n",
       "</div>"
      ],
      "text/plain": [
       "         value curr   rates base        date  eur_value\n",
       "0    48.910052  THB  33.668  EUR  2019-10-31   1.452716\n",
       "1    16.505115  THB  33.668  EUR  2019-10-31   0.490232\n",
       "2    26.431815  THB  33.668  EUR  2019-10-31   0.785072\n",
       "3    15.357862  THB  33.668  EUR  2019-10-31   0.456156\n",
       "4    41.928861  THB  33.668  EUR  2019-10-31   1.245362\n",
       "..         ...  ...     ...  ...         ...        ...\n",
       "995  27.189609  RON   4.756  EUR  2019-10-31   5.716907\n",
       "996  46.409661  RON   4.756  EUR  2019-10-31   9.758129\n",
       "997  13.215449  RON   4.756  EUR  2019-10-31   2.778690\n",
       "998  38.344216  RON   4.756  EUR  2019-10-31   8.062283\n",
       "999  42.034297  RON   4.756  EUR  2019-10-31   8.838162\n",
       "\n",
       "[1000 rows x 6 columns]"
      ]
     },
     "execution_count": 21,
     "metadata": {},
     "output_type": "execute_result"
    }
   ],
   "source": [
    "def give_me_fx_now(file_name_path, exchange_rate_api_address):\n",
    "    fx_res_pd = howz_da_euro_doin(exchange_rate_api_address)\n",
    "    file_name_read = open_sesame(file_name_path)\n",
    "    fx_merge= file_name_read.merge(fx_res_pd, left_on= 'curr', right_on= 'id')\n",
    "    fx_merge['eur_value'] = fx_merge['value']/ fx_merge['rates']\n",
    "    return fx_merge\n",
    "\n",
    "#Test\n",
    "give_me_fx_now('assets.csv', 'https://api.exchangeratesapi.io/latest')"
   ]
  }
 ],
 "metadata": {
  "kernelspec": {
   "display_name": "Python 3",
   "language": "python",
   "name": "python3"
  },
  "language_info": {
   "codemirror_mode": {
    "name": "ipython",
    "version": 3
   },
   "file_extension": ".py",
   "mimetype": "text/x-python",
   "name": "python",
   "nbconvert_exporter": "python",
   "pygments_lexer": "ipython3",
   "version": "3.7.4"
  },
  "name": "exercises.ipynb"
 },
 "nbformat": 4,
 "nbformat_minor": 2
}

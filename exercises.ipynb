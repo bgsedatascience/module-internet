{
 "cells": [
  {
   "cell_type": "markdown",
   "metadata": {
    "ein.tags": "worksheet-0",
    "slideshow": {
     "slide_type": "-"
    }
   },
   "source": [
    "# Making HTTP Requests\n",
    "\n",
    "In Python, there are many libraries to make HTTP requests. We will use a 3rd-party library called \"requests\", which is very easy to use. \n",
    "\n",
    "Making a \"GET\" request is as simple as: \n",
    "\n",
    "```python\n",
    "import requests\n",
    "\n",
    "res = requests.get(url) # returns a \"Response\" object\n",
    "res.content # has the \"body\" of the response\n",
    "```\n",
    "\n",
    "You might need to install the requests library! \n",
    "\n",
    "You can do that with the following code in a Jupyter cell: \n",
    "\n",
    "```python\n",
    "! pip install requests\n",
    "```\n",
    "\n",
    "Or, if you're using anaconda, optionally you can also do: \n",
    "\n",
    "```python\n",
    "! conda install -c anaconda requests\n",
    "```"
   ]
  },
  {
   "cell_type": "markdown",
   "metadata": {
    "ein.tags": "worksheet-0",
    "slideshow": {
     "slide_type": "-"
    }
   },
   "source": [
    "## Parsing JSON data\n",
    "\n",
    "To parse JSON data in Python, we will use the \"json\" module: \n",
    "\n",
    "```python\n",
    "import json\n",
    "```\n",
    "\n",
    "Read more about the module on the [documentation page](https://docs.python.org/3/library/json.html)!\n",
    "\n",
    "All we care about for this part is the method \"loads\", which turns JSON data into a Python object: \n",
    "\n",
    "```python\n",
    "json.loads(my_string_encoded_json)\n",
    "```"
   ]
  },
  {
   "cell_type": "markdown",
   "metadata": {
    "ein.tags": "worksheet-0",
    "slideshow": {
     "slide_type": "-"
    }
   },
   "source": [
    "## Pokemon API\n",
    "\n",
    "There is a simple, open API called \"pokeapi\" that allows us to make requests and see how to use APIs. Like everything, we first look at the documentation: \n",
    "\n",
    "https://pokeapi.co/docs/v2.html"
   ]
  },
  {
   "cell_type": "code",
   "execution_count": 1,
   "metadata": {
    "autoscroll": false,
    "ein.hycell": false,
    "ein.tags": "worksheet-0",
    "slideshow": {
     "slide_type": "-"
    }
   },
   "outputs": [
    {
     "data": {
      "text/plain": [
       "{'count': 64,\n",
       " 'next': 'https://pokeapi.co/api/v2/berry?offset=20&limit=20',\n",
       " 'previous': None,\n",
       " 'results': [{'name': 'cheri', 'url': 'https://pokeapi.co/api/v2/berry/1/'},\n",
       "  {'name': 'chesto', 'url': 'https://pokeapi.co/api/v2/berry/2/'},\n",
       "  {'name': 'pecha', 'url': 'https://pokeapi.co/api/v2/berry/3/'},\n",
       "  {'name': 'rawst', 'url': 'https://pokeapi.co/api/v2/berry/4/'},\n",
       "  {'name': 'aspear', 'url': 'https://pokeapi.co/api/v2/berry/5/'},\n",
       "  {'name': 'leppa', 'url': 'https://pokeapi.co/api/v2/berry/6/'},\n",
       "  {'name': 'oran', 'url': 'https://pokeapi.co/api/v2/berry/7/'},\n",
       "  {'name': 'persim', 'url': 'https://pokeapi.co/api/v2/berry/8/'},\n",
       "  {'name': 'lum', 'url': 'https://pokeapi.co/api/v2/berry/9/'},\n",
       "  {'name': 'sitrus', 'url': 'https://pokeapi.co/api/v2/berry/10/'},\n",
       "  {'name': 'figy', 'url': 'https://pokeapi.co/api/v2/berry/11/'},\n",
       "  {'name': 'wiki', 'url': 'https://pokeapi.co/api/v2/berry/12/'},\n",
       "  {'name': 'mago', 'url': 'https://pokeapi.co/api/v2/berry/13/'},\n",
       "  {'name': 'aguav', 'url': 'https://pokeapi.co/api/v2/berry/14/'},\n",
       "  {'name': 'iapapa', 'url': 'https://pokeapi.co/api/v2/berry/15/'},\n",
       "  {'name': 'razz', 'url': 'https://pokeapi.co/api/v2/berry/16/'},\n",
       "  {'name': 'bluk', 'url': 'https://pokeapi.co/api/v2/berry/17/'},\n",
       "  {'name': 'nanab', 'url': 'https://pokeapi.co/api/v2/berry/18/'},\n",
       "  {'name': 'wepear', 'url': 'https://pokeapi.co/api/v2/berry/19/'},\n",
       "  {'name': 'pinap', 'url': 'https://pokeapi.co/api/v2/berry/20/'}]}"
      ]
     },
     "execution_count": 1,
     "metadata": {},
     "output_type": "execute_result"
    }
   ],
   "source": [
    "# Let's see how to make a get request to the API: \n",
    "import requests\n",
    "import json\n",
    "import pandas as pd\n",
    "from datetime import datetime\n",
    "\n",
    "res = requests.get('https://pokeapi.co/api/v2/berry')\n",
    "res = json.loads(res.content)\n",
    "res"
   ]
  },
  {
   "cell_type": "code",
   "execution_count": 2,
   "metadata": {
    "autoscroll": false,
    "ein.hycell": false,
    "ein.tags": "worksheet-0",
    "slideshow": {
     "slide_type": "-"
    }
   },
   "outputs": [],
   "source": [
    "# Challenge: \n",
    "# Create a Dataframe with all the Pokemon names and their URLs. \n",
    "\n",
    "def get_pokes(url):\n",
    "    # Make the HTTP request to the given url.\n",
    "    poke = requests.get(url)\n",
    "    # Parse the response as json\n",
    "    poke = json.loads(poke.content)\n",
    "    # return the \"next\" and the \"results\" (as a 2-tuple!)\n",
    "    return (poke['next'], poke['results']) if poke['next'] is not None else (False, poke['results'])\n",
    "    # make sure to return a \"falsey\" value (such as None)\n",
    "    # if there is not a \"next!\"\n",
    "\n",
    "\n",
    "def catch_em_all(url):\n",
    "    pokes = []\n",
    "    \n",
    "    # While loop! Like a for-loop, \n",
    "    # but goes on for an indetermined amount\n",
    "    # of time:\n",
    "    while url:\n",
    "        url, results = get_pokes(url)\n",
    "        pokes += results\n",
    "    return pokes\n",
    "        \n",
    "    \n",
    "list_of_pokes = catch_em_all('https://pokeapi.co/api/v2/pokemon')\n",
    "\n",
    "# This data is most naturally represented as a list of dictionaries. \n",
    "# How can we create a dataframe from a list of dictionaries? \n",
    "# Try to find out on your own, from the internet!\n",
    "\n",
    "# TODO: turn list_of_pokes into a dataframe."
   ]
  },
  {
   "cell_type": "code",
   "execution_count": 3,
   "metadata": {},
   "outputs": [
    {
     "data": {
      "text/html": [
       "<div>\n",
       "<style scoped>\n",
       "    .dataframe tbody tr th:only-of-type {\n",
       "        vertical-align: middle;\n",
       "    }\n",
       "\n",
       "    .dataframe tbody tr th {\n",
       "        vertical-align: top;\n",
       "    }\n",
       "\n",
       "    .dataframe thead th {\n",
       "        text-align: right;\n",
       "    }\n",
       "</style>\n",
       "<table border=\"1\" class=\"dataframe\">\n",
       "  <thead>\n",
       "    <tr style=\"text-align: right;\">\n",
       "      <th></th>\n",
       "      <th>name</th>\n",
       "      <th>url</th>\n",
       "    </tr>\n",
       "  </thead>\n",
       "  <tbody>\n",
       "    <tr>\n",
       "      <th>0</th>\n",
       "      <td>bulbasaur</td>\n",
       "      <td>https://pokeapi.co/api/v2/pokemon/1/</td>\n",
       "    </tr>\n",
       "    <tr>\n",
       "      <th>1</th>\n",
       "      <td>ivysaur</td>\n",
       "      <td>https://pokeapi.co/api/v2/pokemon/2/</td>\n",
       "    </tr>\n",
       "    <tr>\n",
       "      <th>2</th>\n",
       "      <td>venusaur</td>\n",
       "      <td>https://pokeapi.co/api/v2/pokemon/3/</td>\n",
       "    </tr>\n",
       "    <tr>\n",
       "      <th>3</th>\n",
       "      <td>charmander</td>\n",
       "      <td>https://pokeapi.co/api/v2/pokemon/4/</td>\n",
       "    </tr>\n",
       "    <tr>\n",
       "      <th>4</th>\n",
       "      <td>charmeleon</td>\n",
       "      <td>https://pokeapi.co/api/v2/pokemon/5/</td>\n",
       "    </tr>\n",
       "  </tbody>\n",
       "</table>\n",
       "</div>"
      ],
      "text/plain": [
       "         name                                   url\n",
       "0   bulbasaur  https://pokeapi.co/api/v2/pokemon/1/\n",
       "1     ivysaur  https://pokeapi.co/api/v2/pokemon/2/\n",
       "2    venusaur  https://pokeapi.co/api/v2/pokemon/3/\n",
       "3  charmander  https://pokeapi.co/api/v2/pokemon/4/\n",
       "4  charmeleon  https://pokeapi.co/api/v2/pokemon/5/"
      ]
     },
     "execution_count": 3,
     "metadata": {},
     "output_type": "execute_result"
    }
   ],
   "source": [
    "pokemons = pd.DataFrame(list_of_pokes)\n",
    "pokemons.head()"
   ]
  },
  {
   "cell_type": "markdown",
   "metadata": {
    "ein.tags": "worksheet-0",
    "slideshow": {
     "slide_type": "-"
    }
   },
   "source": [
    "## Project: Live Exchange Rates\n",
    "\n",
    "Imagine that you work with financial assets which are denominated in different currencies. You analyze this data regularly, and want to create a \"transformation\" function that transforms all your assets into EUR prices, based on today's exchange rate. \n",
    "\n",
    "Your data with the local-currency-denominated value of each asset lives in a file called \"assets.csv\" which should be located in the same folder as this notebook. \n",
    "\n",
    "Write a \"data loading\" function that: \n",
    "\n",
    "1. Reads the data, given the path to the file. \n",
    "2. Returns a dataframe with an additional column that has the assets value in euros, as of today.\n",
    "\n",
    "Use this free API to get today's exchange rates: https://exchangeratesapi.io/. You will need to read the documentation and try it out to see how it works. \n",
    "\n",
    "HINT: Write a separate function to get the current exchange rates! That can be reused!"
   ]
  },
  {
   "cell_type": "code",
   "execution_count": 4,
   "metadata": {},
   "outputs": [],
   "source": [
    "def get_exchange_rates(date='latest', base='EUR'):\n",
    "    rates = requests.get(f'https://api.exchangeratesapi.io/{date}?base={base}')\n",
    "    rates = json.loads(rates.content)\n",
    "    return rates['rates']\n",
    "\n",
    "def data_loading(path, date='latest', base='EUR'):\n",
    "    df = pd.read_csv(path)\n",
    "    exchange_rates = get_exchange_rates(date, base)\n",
    "    exchange_rates = pd.DataFrame.from_dict(exchange_rates, orient='index', columns=[f'fx_rate_{base}'])\n",
    "    df = df.merge(exchange_rates, how='left', left_on='curr', right_index=True)\n",
    "    df[f'value_{base}'] = df['value'] / df[f'fx_rate_{base}']\n",
    "    return df"
   ]
  },
  {
   "cell_type": "code",
   "execution_count": 5,
   "metadata": {},
   "outputs": [
    {
     "data": {
      "text/html": [
       "<div>\n",
       "<style scoped>\n",
       "    .dataframe tbody tr th:only-of-type {\n",
       "        vertical-align: middle;\n",
       "    }\n",
       "\n",
       "    .dataframe tbody tr th {\n",
       "        vertical-align: top;\n",
       "    }\n",
       "\n",
       "    .dataframe thead th {\n",
       "        text-align: right;\n",
       "    }\n",
       "</style>\n",
       "<table border=\"1\" class=\"dataframe\">\n",
       "  <thead>\n",
       "    <tr style=\"text-align: right;\">\n",
       "      <th></th>\n",
       "      <th>value</th>\n",
       "      <th>curr</th>\n",
       "      <th>fx_rate_EUR</th>\n",
       "      <th>value_EUR</th>\n",
       "    </tr>\n",
       "  </thead>\n",
       "  <tbody>\n",
       "    <tr>\n",
       "      <th>0</th>\n",
       "      <td>48.910052</td>\n",
       "      <td>THB</td>\n",
       "      <td>33.6680</td>\n",
       "      <td>1.452716</td>\n",
       "    </tr>\n",
       "    <tr>\n",
       "      <th>1</th>\n",
       "      <td>16.505115</td>\n",
       "      <td>THB</td>\n",
       "      <td>33.6680</td>\n",
       "      <td>0.490232</td>\n",
       "    </tr>\n",
       "    <tr>\n",
       "      <th>2</th>\n",
       "      <td>30.370579</td>\n",
       "      <td>INR</td>\n",
       "      <td>79.1125</td>\n",
       "      <td>0.383891</td>\n",
       "    </tr>\n",
       "    <tr>\n",
       "      <th>3</th>\n",
       "      <td>14.126967</td>\n",
       "      <td>SEK</td>\n",
       "      <td>10.7498</td>\n",
       "      <td>1.314161</td>\n",
       "    </tr>\n",
       "    <tr>\n",
       "      <th>4</th>\n",
       "      <td>23.406904</td>\n",
       "      <td>HKD</td>\n",
       "      <td>8.7401</td>\n",
       "      <td>2.678105</td>\n",
       "    </tr>\n",
       "  </tbody>\n",
       "</table>\n",
       "</div>"
      ],
      "text/plain": [
       "       value curr  fx_rate_EUR  value_EUR\n",
       "0  48.910052  THB      33.6680   1.452716\n",
       "1  16.505115  THB      33.6680   0.490232\n",
       "2  30.370579  INR      79.1125   0.383891\n",
       "3  14.126967  SEK      10.7498   1.314161\n",
       "4  23.406904  HKD       8.7401   2.678105"
      ]
     },
     "execution_count": 5,
     "metadata": {},
     "output_type": "execute_result"
    }
   ],
   "source": [
    "today = datetime.now().strftime('%Y-%m-%d')\n",
    "data = data_loading('assets.csv', today)\n",
    "data.head()"
   ]
  },
  {
   "cell_type": "code",
   "execution_count": null,
   "metadata": {},
   "outputs": [],
   "source": []
  }
 ],
 "metadata": {
  "kernelspec": {
   "display_name": "Python 3",
   "language": "python",
   "name": "python3"
  },
  "language_info": {
   "codemirror_mode": {
    "name": "ipython",
    "version": 3
   },
   "file_extension": ".py",
   "mimetype": "text/x-python",
   "name": "python",
   "nbconvert_exporter": "python",
   "pygments_lexer": "ipython3",
   "version": "3.7.3"
  },
  "name": "exercises.ipynb"
 },
 "nbformat": 4,
 "nbformat_minor": 2
}

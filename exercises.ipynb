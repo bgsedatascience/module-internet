{
 "cells": [
  {
   "cell_type": "markdown",
   "metadata": {
    "ein.tags": "worksheet-0",
    "slideshow": {
     "slide_type": "-"
    }
   },
   "source": [
    "# Making HTTP Requests\n",
    "\n",
    "In Python, there are many libraries to make HTTP requests. We will use a 3rd-party library called \"requests\", which is very easy to use. \n",
    "\n",
    "Making a \"GET\" request is as simple as: \n",
    "\n",
    "```python\n",
    "import requests\n",
    "\n",
    "res = requests.get(url) # returns a \"Response\" object\n",
    "res.content # has the \"body\" of the response\n",
    "```\n",
    "\n",
    "You might need to install the requests library! \n",
    "\n",
    "You can do that with the following code in a Jupyter cell: \n",
    "\n",
    "```python\n",
    "! pip install requests\n",
    "```\n",
    "\n",
    "Or, if you're using anaconda, optionally you can also do: \n",
    "\n",
    "```python\n",
    "! conda install -c anaconda requests\n",
    "```"
   ]
  },
  {
   "cell_type": "markdown",
   "metadata": {
    "ein.tags": "worksheet-0",
    "slideshow": {
     "slide_type": "-"
    }
   },
   "source": [
    "## Parsing JSON data\n",
    "\n",
    "To parse JSON data in Python, we will use the \"json\" module: \n",
    "\n",
    "```python\n",
    "import json\n",
    "```\n",
    "\n",
    "Read more about the module on the [documentation page](https://docs.python.org/3/library/json.html)!\n",
    "\n",
    "All we care about for this part is the method \"loads\", which turns JSON data into a Python object: \n",
    "\n",
    "```python\n",
    "json.loads(my_string_encoded_json)\n",
    "```"
   ]
  },
  {
   "cell_type": "markdown",
   "metadata": {
    "ein.tags": "worksheet-0",
    "slideshow": {
     "slide_type": "-"
    }
   },
   "source": [
    "## Pokemon API\n",
    "\n",
    "There is a simple, open API called \"pokeapi\" that allows us to make requests and see how to use APIs. Like everything, we first look at the documentation: \n",
    "\n",
    "https://pokeapi.co/docs/v2.html"
   ]
  },
  {
   "cell_type": "code",
   "execution_count": 28,
   "metadata": {
    "autoscroll": false,
    "ein.hycell": false,
    "ein.tags": "worksheet-0",
    "slideshow": {
     "slide_type": "-"
    }
   },
   "outputs": [
    {
     "data": {
      "text/plain": [
       "'https://pokeapi.co/api/v2/pokemon?offset=40&limit=20'"
      ]
     },
     "execution_count": 28,
     "metadata": {},
     "output_type": "execute_result"
    }
   ],
   "source": [
    "# Let's see how to make a get request to the API: \n",
    "import requests\n",
    "import json\n",
    "import pandas as pd\n",
    "\n",
    "res = requests.get('https://pokeapi.co/api/v2/pokemon?offset=20&limit=20')\n",
    "js = json.loads(res.content)\n",
    "js['next']"
   ]
  },
  {
   "cell_type": "code",
   "execution_count": 34,
   "metadata": {},
   "outputs": [
    {
     "data": {
      "text/plain": [
       "{'count': 64,\n",
       " 'next': 'https://pokeapi.co/api/v2/berry?offset=20&limit=20',\n",
       " 'previous': None,\n",
       " 'results': [{'name': 'cheri', 'url': 'https://pokeapi.co/api/v2/berry/1/'},\n",
       "  {'name': 'chesto', 'url': 'https://pokeapi.co/api/v2/berry/2/'},\n",
       "  {'name': 'pecha', 'url': 'https://pokeapi.co/api/v2/berry/3/'},\n",
       "  {'name': 'rawst', 'url': 'https://pokeapi.co/api/v2/berry/4/'},\n",
       "  {'name': 'aspear', 'url': 'https://pokeapi.co/api/v2/berry/5/'},\n",
       "  {'name': 'leppa', 'url': 'https://pokeapi.co/api/v2/berry/6/'},\n",
       "  {'name': 'oran', 'url': 'https://pokeapi.co/api/v2/berry/7/'},\n",
       "  {'name': 'persim', 'url': 'https://pokeapi.co/api/v2/berry/8/'},\n",
       "  {'name': 'lum', 'url': 'https://pokeapi.co/api/v2/berry/9/'},\n",
       "  {'name': 'sitrus', 'url': 'https://pokeapi.co/api/v2/berry/10/'},\n",
       "  {'name': 'figy', 'url': 'https://pokeapi.co/api/v2/berry/11/'},\n",
       "  {'name': 'wiki', 'url': 'https://pokeapi.co/api/v2/berry/12/'},\n",
       "  {'name': 'mago', 'url': 'https://pokeapi.co/api/v2/berry/13/'},\n",
       "  {'name': 'aguav', 'url': 'https://pokeapi.co/api/v2/berry/14/'},\n",
       "  {'name': 'iapapa', 'url': 'https://pokeapi.co/api/v2/berry/15/'},\n",
       "  {'name': 'razz', 'url': 'https://pokeapi.co/api/v2/berry/16/'},\n",
       "  {'name': 'bluk', 'url': 'https://pokeapi.co/api/v2/berry/17/'},\n",
       "  {'name': 'nanab', 'url': 'https://pokeapi.co/api/v2/berry/18/'},\n",
       "  {'name': 'wepear', 'url': 'https://pokeapi.co/api/v2/berry/19/'},\n",
       "  {'name': 'pinap', 'url': 'https://pokeapi.co/api/v2/berry/20/'}]}"
      ]
     },
     "execution_count": 34,
     "metadata": {},
     "output_type": "execute_result"
    }
   ],
   "source": [
    "res = requests.get('https://pokeapi.co/api/v2/berry')\n",
    "json_=json.loads(res.content)\n",
    "json_"
   ]
  },
  {
   "cell_type": "code",
   "execution_count": 38,
   "metadata": {
    "autoscroll": false,
    "ein.hycell": false,
    "ein.tags": "worksheet-0",
    "slideshow": {
     "slide_type": "-"
    }
   },
   "outputs": [],
   "source": [
    "# Challenge: \n",
    "# Create a Dataframe with all the Pokemon names and their URLs. \n",
    "\n",
    "def get_pokes(url):\n",
    "    res = requests.get(url)\n",
    "    json_res = json.loads(res.content)\n",
    "\n",
    "    next_url = json_res['next']\n",
    "    # Make the HTTP request to the given url. \n",
    "    # Parse the response as json\n",
    "    # return the \"next\" and the \"results\" (as a 2-tuple!)\n",
    "    # make sure to return a \"falsey\" value (such as None)\n",
    "    # if there is not a \"next!\"\n",
    "    return next_url, json_res['results']\n",
    "\n",
    "\n",
    "def catch_em_all(url):\n",
    "    pokes = []\n",
    "    \n",
    "    # While loop! Like a for-loop, \n",
    "    # but goes on for an indetermined amount\n",
    "    # of time:\n",
    "    while url:\n",
    "        url, results = get_pokes(url)\n",
    "        pokes += results\n",
    "    return pokes\n",
    "        \n",
    "    \n",
    "list_of_pokes = catch_em_all('https://pokeapi.co/api/v2/pokemon')\n",
    "\n",
    "# This data is most naturally represented as a list of dictionaries. \n",
    "# How can we create a dataframe from a list of dictionaries? \n",
    "# Try to find out on your own, from the internet!\n",
    "\n",
    "# TODO: turn list_of_pokes into a dataframe.\n",
    "df = pd.DataFrame(list_of_pokes)"
   ]
  },
  {
   "cell_type": "code",
   "execution_count": 39,
   "metadata": {},
   "outputs": [
    {
     "data": {
      "text/html": [
       "<div>\n",
       "<style scoped>\n",
       "    .dataframe tbody tr th:only-of-type {\n",
       "        vertical-align: middle;\n",
       "    }\n",
       "\n",
       "    .dataframe tbody tr th {\n",
       "        vertical-align: top;\n",
       "    }\n",
       "\n",
       "    .dataframe thead th {\n",
       "        text-align: right;\n",
       "    }\n",
       "</style>\n",
       "<table border=\"1\" class=\"dataframe\">\n",
       "  <thead>\n",
       "    <tr style=\"text-align: right;\">\n",
       "      <th></th>\n",
       "      <th>name</th>\n",
       "      <th>url</th>\n",
       "    </tr>\n",
       "  </thead>\n",
       "  <tbody>\n",
       "    <tr>\n",
       "      <td>0</td>\n",
       "      <td>bulbasaur</td>\n",
       "      <td>https://pokeapi.co/api/v2/pokemon/1/</td>\n",
       "    </tr>\n",
       "    <tr>\n",
       "      <td>1</td>\n",
       "      <td>ivysaur</td>\n",
       "      <td>https://pokeapi.co/api/v2/pokemon/2/</td>\n",
       "    </tr>\n",
       "    <tr>\n",
       "      <td>2</td>\n",
       "      <td>venusaur</td>\n",
       "      <td>https://pokeapi.co/api/v2/pokemon/3/</td>\n",
       "    </tr>\n",
       "    <tr>\n",
       "      <td>3</td>\n",
       "      <td>charmander</td>\n",
       "      <td>https://pokeapi.co/api/v2/pokemon/4/</td>\n",
       "    </tr>\n",
       "    <tr>\n",
       "      <td>4</td>\n",
       "      <td>charmeleon</td>\n",
       "      <td>https://pokeapi.co/api/v2/pokemon/5/</td>\n",
       "    </tr>\n",
       "    <tr>\n",
       "      <td>...</td>\n",
       "      <td>...</td>\n",
       "      <td>...</td>\n",
       "    </tr>\n",
       "    <tr>\n",
       "      <td>959</td>\n",
       "      <td>araquanid-totem</td>\n",
       "      <td>https://pokeapi.co/api/v2/pokemon/10153/</td>\n",
       "    </tr>\n",
       "    <tr>\n",
       "      <td>960</td>\n",
       "      <td>togedemaru-totem</td>\n",
       "      <td>https://pokeapi.co/api/v2/pokemon/10154/</td>\n",
       "    </tr>\n",
       "    <tr>\n",
       "      <td>961</td>\n",
       "      <td>necrozma-dusk</td>\n",
       "      <td>https://pokeapi.co/api/v2/pokemon/10155/</td>\n",
       "    </tr>\n",
       "    <tr>\n",
       "      <td>962</td>\n",
       "      <td>necrozma-dawn</td>\n",
       "      <td>https://pokeapi.co/api/v2/pokemon/10156/</td>\n",
       "    </tr>\n",
       "    <tr>\n",
       "      <td>963</td>\n",
       "      <td>necrozma-ultra</td>\n",
       "      <td>https://pokeapi.co/api/v2/pokemon/10157/</td>\n",
       "    </tr>\n",
       "  </tbody>\n",
       "</table>\n",
       "<p>964 rows × 2 columns</p>\n",
       "</div>"
      ],
      "text/plain": [
       "                 name                                       url\n",
       "0           bulbasaur      https://pokeapi.co/api/v2/pokemon/1/\n",
       "1             ivysaur      https://pokeapi.co/api/v2/pokemon/2/\n",
       "2            venusaur      https://pokeapi.co/api/v2/pokemon/3/\n",
       "3          charmander      https://pokeapi.co/api/v2/pokemon/4/\n",
       "4          charmeleon      https://pokeapi.co/api/v2/pokemon/5/\n",
       "..                ...                                       ...\n",
       "959   araquanid-totem  https://pokeapi.co/api/v2/pokemon/10153/\n",
       "960  togedemaru-totem  https://pokeapi.co/api/v2/pokemon/10154/\n",
       "961     necrozma-dusk  https://pokeapi.co/api/v2/pokemon/10155/\n",
       "962     necrozma-dawn  https://pokeapi.co/api/v2/pokemon/10156/\n",
       "963    necrozma-ultra  https://pokeapi.co/api/v2/pokemon/10157/\n",
       "\n",
       "[964 rows x 2 columns]"
      ]
     },
     "execution_count": 39,
     "metadata": {},
     "output_type": "execute_result"
    }
   ],
   "source": [
    "df"
   ]
  },
  {
   "cell_type": "markdown",
   "metadata": {
    "ein.tags": "worksheet-0",
    "slideshow": {
     "slide_type": "-"
    }
   },
   "source": [
    "## Project: Live Exchange Rates\n",
    "\n",
    "Imagine that you work with financial assets which are denominated in different currencies. You analyze this data regularly, and want to create a \"transformation\" function that transforms all your assets into EUR prices, based on today's exchange rate. \n",
    "\n",
    "Your data with the local-currency-denominated value of each asset lives in a file called \"assets.csv\" which should be located in the same folder as this notebook. \n",
    "\n",
    "Write a \"data loading\" function that: \n",
    "\n",
    "1. Reads the data, given the path to the file. \n",
    "2. Returns a dataframe with an additional column that has the assets value in euros, as of today.\n",
    "\n",
    "Use this free API to get today's exchange rates: https://exchangeratesapi.io/. You will need to read the documentation and try it out to see how it works. \n",
    "\n",
    "HINT: Write a separate function to get the current exchange rates! That can be reused!"
   ]
  },
  {
   "cell_type": "code",
   "execution_count": 120,
   "metadata": {},
   "outputs": [],
   "source": [
    "def read_data(path,base='EUR'):\n",
    "    res = requests.get('https://api.exchangeratesapi.io/latest?base={}'.format(base))\n",
    "    result = json.loads(res.content)\n",
    "    df_rates=pd.DataFrame.from_dict(result['rates'], orient='index')\n",
    "    df = pd.read_csv(path)\n",
    "    df=df.merge(df_rates, how='left',left_on='curr', right_index=True).rename(columns={0: \"exchange_rate\"})\n",
    "    df['val_in_{}'.format(base)]=df['value']/df['exchange_rate']\n",
    "    return df.drop(columns=['exchange_rate'])"
   ]
  },
  {
   "cell_type": "code",
   "execution_count": 121,
   "metadata": {},
   "outputs": [
    {
     "data": {
      "text/html": [
       "<div>\n",
       "<style scoped>\n",
       "    .dataframe tbody tr th:only-of-type {\n",
       "        vertical-align: middle;\n",
       "    }\n",
       "\n",
       "    .dataframe tbody tr th {\n",
       "        vertical-align: top;\n",
       "    }\n",
       "\n",
       "    .dataframe thead th {\n",
       "        text-align: right;\n",
       "    }\n",
       "</style>\n",
       "<table border=\"1\" class=\"dataframe\">\n",
       "  <thead>\n",
       "    <tr style=\"text-align: right;\">\n",
       "      <th></th>\n",
       "      <th>value</th>\n",
       "      <th>curr</th>\n",
       "      <th>val_in_EUR</th>\n",
       "    </tr>\n",
       "  </thead>\n",
       "  <tbody>\n",
       "    <tr>\n",
       "      <td>0</td>\n",
       "      <td>48.910052</td>\n",
       "      <td>THB</td>\n",
       "      <td>1.460525</td>\n",
       "    </tr>\n",
       "    <tr>\n",
       "      <td>1</td>\n",
       "      <td>16.505115</td>\n",
       "      <td>THB</td>\n",
       "      <td>0.492867</td>\n",
       "    </tr>\n",
       "    <tr>\n",
       "      <td>2</td>\n",
       "      <td>30.370579</td>\n",
       "      <td>INR</td>\n",
       "      <td>0.387205</td>\n",
       "    </tr>\n",
       "    <tr>\n",
       "      <td>3</td>\n",
       "      <td>14.126967</td>\n",
       "      <td>SEK</td>\n",
       "      <td>1.314100</td>\n",
       "    </tr>\n",
       "    <tr>\n",
       "      <td>4</td>\n",
       "      <td>23.406904</td>\n",
       "      <td>HKD</td>\n",
       "      <td>2.692832</td>\n",
       "    </tr>\n",
       "    <tr>\n",
       "      <td>...</td>\n",
       "      <td>...</td>\n",
       "      <td>...</td>\n",
       "      <td>...</td>\n",
       "    </tr>\n",
       "    <tr>\n",
       "      <td>995</td>\n",
       "      <td>13.593894</td>\n",
       "      <td>HRK</td>\n",
       "      <td>1.823631</td>\n",
       "    </tr>\n",
       "    <tr>\n",
       "      <td>996</td>\n",
       "      <td>41.710860</td>\n",
       "      <td>ZAR</td>\n",
       "      <td>2.587490</td>\n",
       "    </tr>\n",
       "    <tr>\n",
       "      <td>997</td>\n",
       "      <td>12.877760</td>\n",
       "      <td>AUD</td>\n",
       "      <td>7.927215</td>\n",
       "    </tr>\n",
       "    <tr>\n",
       "      <td>998</td>\n",
       "      <td>29.561696</td>\n",
       "      <td>KRW</td>\n",
       "      <td>0.022791</td>\n",
       "    </tr>\n",
       "    <tr>\n",
       "      <td>999</td>\n",
       "      <td>42.034297</td>\n",
       "      <td>RON</td>\n",
       "      <td>8.838348</td>\n",
       "    </tr>\n",
       "  </tbody>\n",
       "</table>\n",
       "<p>1000 rows × 3 columns</p>\n",
       "</div>"
      ],
      "text/plain": [
       "         value curr  val_in_EUR\n",
       "0    48.910052  THB    1.460525\n",
       "1    16.505115  THB    0.492867\n",
       "2    30.370579  INR    0.387205\n",
       "3    14.126967  SEK    1.314100\n",
       "4    23.406904  HKD    2.692832\n",
       "..         ...  ...         ...\n",
       "995  13.593894  HRK    1.823631\n",
       "996  41.710860  ZAR    2.587490\n",
       "997  12.877760  AUD    7.927215\n",
       "998  29.561696  KRW    0.022791\n",
       "999  42.034297  RON    8.838348\n",
       "\n",
       "[1000 rows x 3 columns]"
      ]
     },
     "execution_count": 121,
     "metadata": {},
     "output_type": "execute_result"
    }
   ],
   "source": [
    "read_data(path='assets.csv',base='EUR')"
   ]
  },
  {
   "cell_type": "code",
   "execution_count": null,
   "metadata": {},
   "outputs": [],
   "source": []
  }
 ],
 "metadata": {
  "kernelspec": {
   "display_name": "Python 3",
   "language": "python",
   "name": "python3"
  },
  "language_info": {
   "codemirror_mode": {
    "name": "ipython",
    "version": 3
   },
   "file_extension": ".py",
   "mimetype": "text/x-python",
   "name": "python",
   "nbconvert_exporter": "python",
   "pygments_lexer": "ipython3",
   "version": "3.7.3"
  },
  "name": "exercises.ipynb"
 },
 "nbformat": 4,
 "nbformat_minor": 2
}

{
 "cells": [
  {
   "cell_type": "markdown",
   "metadata": {
    "ein.tags": "worksheet-0",
    "slideshow": {
     "slide_type": "-"
    }
   },
   "source": [
    "# Making HTTP Requests\n",
    "\n",
    "In Python, there are many libraries to make HTTP requests. We will use a 3rd-party library called \"requests\", which is very easy to use. \n",
    "\n",
    "Making a \"GET\" request is as simple as: \n",
    "\n",
    "```python\n",
    "import requests\n",
    "\n",
    "res = requests.get(url) # returns a \"Response\" object\n",
    "res.content # has the \"body\" of the response\n",
    "```\n",
    "\n",
    "You might need to install the requests library! \n",
    "\n",
    "You can do that with the following code in a Jupyter cell: \n",
    "\n",
    "```python\n",
    "! pip install requests\n",
    "```\n",
    "\n",
    "Or, if you're using anaconda, optionally you can also do: \n",
    "\n",
    "```python\n",
    "! conda install -c anaconda requests\n",
    "```"
   ]
  },
  {
   "cell_type": "markdown",
   "metadata": {
    "ein.tags": "worksheet-0",
    "slideshow": {
     "slide_type": "-"
    }
   },
   "source": [
    "## Parsing JSON data\n",
    "\n",
    "To parse JSON data in Python, we will use the \"json\" module: \n",
    "\n",
    "```python\n",
    "import json\n",
    "```\n",
    "\n",
    "Read more about the module on the [documentation page](https://docs.python.org/3/library/json.html)!\n",
    "\n",
    "All we care about for this part is the method \"loads\", which turns JSON data into a Python object: \n",
    "\n",
    "```python\n",
    "json.loads(my_string_encoded_json)\n",
    "```"
   ]
  },
  {
   "cell_type": "markdown",
   "metadata": {
    "ein.tags": "worksheet-0",
    "slideshow": {
     "slide_type": "-"
    }
   },
   "source": [
    "## Pokemon API\n",
    "\n",
    "There is a simple, open API called \"pokeapi\" that allows us to make requests and see how to use APIs. Like everything, we first look at the documentation: \n",
    "\n",
    "https://pokeapi.co/docs/v2.html"
   ]
  },
  {
   "cell_type": "code",
   "execution_count": 4,
   "metadata": {
    "autoscroll": false,
    "ein.hycell": false,
    "ein.tags": "worksheet-0",
    "slideshow": {
     "slide_type": "-"
    }
   },
   "outputs": [],
   "source": [
    "# Let's see how to make a get request to the API: \n",
    "import requests\n",
    "import json\n",
    "import pandas as pd"
   ]
  },
  {
   "cell_type": "code",
   "execution_count": 5,
   "metadata": {},
   "outputs": [
    {
     "data": {
      "text/plain": [
       "{'count': 64,\n",
       " 'next': 'https://pokeapi.co/api/v2/berry?offset=20&limit=20',\n",
       " 'previous': None,\n",
       " 'results': [{'name': 'cheri', 'url': 'https://pokeapi.co/api/v2/berry/1/'},\n",
       "  {'name': 'chesto', 'url': 'https://pokeapi.co/api/v2/berry/2/'},\n",
       "  {'name': 'pecha', 'url': 'https://pokeapi.co/api/v2/berry/3/'},\n",
       "  {'name': 'rawst', 'url': 'https://pokeapi.co/api/v2/berry/4/'},\n",
       "  {'name': 'aspear', 'url': 'https://pokeapi.co/api/v2/berry/5/'},\n",
       "  {'name': 'leppa', 'url': 'https://pokeapi.co/api/v2/berry/6/'},\n",
       "  {'name': 'oran', 'url': 'https://pokeapi.co/api/v2/berry/7/'},\n",
       "  {'name': 'persim', 'url': 'https://pokeapi.co/api/v2/berry/8/'},\n",
       "  {'name': 'lum', 'url': 'https://pokeapi.co/api/v2/berry/9/'},\n",
       "  {'name': 'sitrus', 'url': 'https://pokeapi.co/api/v2/berry/10/'},\n",
       "  {'name': 'figy', 'url': 'https://pokeapi.co/api/v2/berry/11/'},\n",
       "  {'name': 'wiki', 'url': 'https://pokeapi.co/api/v2/berry/12/'},\n",
       "  {'name': 'mago', 'url': 'https://pokeapi.co/api/v2/berry/13/'},\n",
       "  {'name': 'aguav', 'url': 'https://pokeapi.co/api/v2/berry/14/'},\n",
       "  {'name': 'iapapa', 'url': 'https://pokeapi.co/api/v2/berry/15/'},\n",
       "  {'name': 'razz', 'url': 'https://pokeapi.co/api/v2/berry/16/'},\n",
       "  {'name': 'bluk', 'url': 'https://pokeapi.co/api/v2/berry/17/'},\n",
       "  {'name': 'nanab', 'url': 'https://pokeapi.co/api/v2/berry/18/'},\n",
       "  {'name': 'wepear', 'url': 'https://pokeapi.co/api/v2/berry/19/'},\n",
       "  {'name': 'pinap', 'url': 'https://pokeapi.co/api/v2/berry/20/'}]}"
      ]
     },
     "execution_count": 5,
     "metadata": {},
     "output_type": "execute_result"
    }
   ],
   "source": [
    "res = requests.get('https://pokeapi.co/api/v2/berry')\n",
    "json.loads(res.content)"
   ]
  },
  {
   "cell_type": "code",
   "execution_count": 2,
   "metadata": {},
   "outputs": [
    {
     "data": {
      "text/plain": [
       "'https://pokeapi.co/api/v2/berry?offset=20&limit=20'"
      ]
     },
     "execution_count": 2,
     "metadata": {},
     "output_type": "execute_result"
    }
   ],
   "source": [
    "json.loads(res.content)['next']"
   ]
  },
  {
   "cell_type": "code",
   "execution_count": 3,
   "metadata": {},
   "outputs": [],
   "source": [
    "#To see the next 20 pokemons\n",
    "res2 = requests.get('https://pokeapi.co/api/v2/berry?offset=20&limit=20')\n",
    "con2 = json.loads(res2.content)"
   ]
  },
  {
   "cell_type": "code",
   "execution_count": 4,
   "metadata": {},
   "outputs": [
    {
     "data": {
      "text/plain": [
       "{'count': 64,\n",
       " 'next': 'https://pokeapi.co/api/v2/berry?offset=40&limit=20',\n",
       " 'previous': 'https://pokeapi.co/api/v2/berry?offset=0&limit=20',\n",
       " 'results': [{'name': 'pomeg', 'url': 'https://pokeapi.co/api/v2/berry/21/'},\n",
       "  {'name': 'kelpsy', 'url': 'https://pokeapi.co/api/v2/berry/22/'},\n",
       "  {'name': 'qualot', 'url': 'https://pokeapi.co/api/v2/berry/23/'},\n",
       "  {'name': 'hondew', 'url': 'https://pokeapi.co/api/v2/berry/24/'},\n",
       "  {'name': 'grepa', 'url': 'https://pokeapi.co/api/v2/berry/25/'},\n",
       "  {'name': 'tamato', 'url': 'https://pokeapi.co/api/v2/berry/26/'},\n",
       "  {'name': 'cornn', 'url': 'https://pokeapi.co/api/v2/berry/27/'},\n",
       "  {'name': 'magost', 'url': 'https://pokeapi.co/api/v2/berry/28/'},\n",
       "  {'name': 'rabuta', 'url': 'https://pokeapi.co/api/v2/berry/29/'},\n",
       "  {'name': 'nomel', 'url': 'https://pokeapi.co/api/v2/berry/30/'},\n",
       "  {'name': 'spelon', 'url': 'https://pokeapi.co/api/v2/berry/31/'},\n",
       "  {'name': 'pamtre', 'url': 'https://pokeapi.co/api/v2/berry/32/'},\n",
       "  {'name': 'watmel', 'url': 'https://pokeapi.co/api/v2/berry/33/'},\n",
       "  {'name': 'durin', 'url': 'https://pokeapi.co/api/v2/berry/34/'},\n",
       "  {'name': 'belue', 'url': 'https://pokeapi.co/api/v2/berry/35/'},\n",
       "  {'name': 'occa', 'url': 'https://pokeapi.co/api/v2/berry/36/'},\n",
       "  {'name': 'passho', 'url': 'https://pokeapi.co/api/v2/berry/37/'},\n",
       "  {'name': 'wacan', 'url': 'https://pokeapi.co/api/v2/berry/38/'},\n",
       "  {'name': 'rindo', 'url': 'https://pokeapi.co/api/v2/berry/39/'},\n",
       "  {'name': 'yache', 'url': 'https://pokeapi.co/api/v2/berry/40/'}]}"
      ]
     },
     "execution_count": 4,
     "metadata": {},
     "output_type": "execute_result"
    }
   ],
   "source": [
    "con2"
   ]
  },
  {
   "cell_type": "code",
   "execution_count": 5,
   "metadata": {},
   "outputs": [
    {
     "data": {
      "text/plain": [
       "{'name': 'pomeg', 'url': 'https://pokeapi.co/api/v2/berry/21/'}"
      ]
     },
     "execution_count": 5,
     "metadata": {},
     "output_type": "execute_result"
    }
   ],
   "source": [
    "con2['results'][0]"
   ]
  },
  {
   "cell_type": "code",
   "execution_count": 6,
   "metadata": {
    "autoscroll": false,
    "ein.hycell": false,
    "ein.tags": "worksheet-0",
    "slideshow": {
     "slide_type": "-"
    }
   },
   "outputs": [],
   "source": [
    "# Challenge: \n",
    "# Create a Dataframe with all the Pokemon names and their URLs. \n",
    "\n",
    "def get_pokes(url):\n",
    "    # Make the HTTP request to the given url. \n",
    "    # Parse the response as json\n",
    "    # return the \"next\" and the \"results\" (as a 2-tuple!)\n",
    "    # make sure to return a \"falsey\" value (such as None)\n",
    "    # if there is not a \"next!\"\n",
    "    \n",
    "    res = requests.get(url)\n",
    "    con = json.loads(res.content)\n",
    "    \n",
    "    next_page = con['next']\n",
    "    \n",
    "    results = con['results']\n",
    "    \n",
    "    \n",
    "    return next_page, results\n",
    "\n",
    "\n",
    "def catch_em_all(url):\n",
    "    pokes = []\n",
    "    \n",
    "    # While loop! Like a for-loop, \n",
    "    # but goes on for an indetermined amount\n",
    "    # of time:\n",
    "    while url:\n",
    "        url, results = get_pokes(url)\n",
    "        pokes += results\n",
    "    return pokes\n",
    "        \n",
    "\n",
    "# This data is most naturally represented as a list of dictionaries. \n",
    "# How can we create a dataframe from a list of dictionaries? \n",
    "# Try to find out on your own, from the internet!\n",
    "\n",
    "# TODO: turn list_of_pokes into a dataframe."
   ]
  },
  {
   "cell_type": "code",
   "execution_count": 7,
   "metadata": {},
   "outputs": [],
   "source": [
    "list_of_pokes = catch_em_all('https://pokeapi.co/api/v2/pokemon')"
   ]
  },
  {
   "cell_type": "code",
   "execution_count": 8,
   "metadata": {},
   "outputs": [],
   "source": [
    "pokes = pd.DataFrame(columns=['name', 'url'])"
   ]
  },
  {
   "cell_type": "code",
   "execution_count": 9,
   "metadata": {},
   "outputs": [],
   "source": [
    "for p in list_of_pokes:\n",
    "    pokes = pokes.append(p, ignore_index =True )"
   ]
  },
  {
   "cell_type": "code",
   "execution_count": 10,
   "metadata": {},
   "outputs": [
    {
     "data": {
      "text/html": [
       "<div>\n",
       "<style scoped>\n",
       "    .dataframe tbody tr th:only-of-type {\n",
       "        vertical-align: middle;\n",
       "    }\n",
       "\n",
       "    .dataframe tbody tr th {\n",
       "        vertical-align: top;\n",
       "    }\n",
       "\n",
       "    .dataframe thead th {\n",
       "        text-align: right;\n",
       "    }\n",
       "</style>\n",
       "<table border=\"1\" class=\"dataframe\">\n",
       "  <thead>\n",
       "    <tr style=\"text-align: right;\">\n",
       "      <th></th>\n",
       "      <th>name</th>\n",
       "      <th>url</th>\n",
       "    </tr>\n",
       "  </thead>\n",
       "  <tbody>\n",
       "    <tr>\n",
       "      <td>0</td>\n",
       "      <td>bulbasaur</td>\n",
       "      <td>https://pokeapi.co/api/v2/pokemon/1/</td>\n",
       "    </tr>\n",
       "    <tr>\n",
       "      <td>1</td>\n",
       "      <td>ivysaur</td>\n",
       "      <td>https://pokeapi.co/api/v2/pokemon/2/</td>\n",
       "    </tr>\n",
       "    <tr>\n",
       "      <td>2</td>\n",
       "      <td>venusaur</td>\n",
       "      <td>https://pokeapi.co/api/v2/pokemon/3/</td>\n",
       "    </tr>\n",
       "    <tr>\n",
       "      <td>3</td>\n",
       "      <td>charmander</td>\n",
       "      <td>https://pokeapi.co/api/v2/pokemon/4/</td>\n",
       "    </tr>\n",
       "    <tr>\n",
       "      <td>4</td>\n",
       "      <td>charmeleon</td>\n",
       "      <td>https://pokeapi.co/api/v2/pokemon/5/</td>\n",
       "    </tr>\n",
       "    <tr>\n",
       "      <td>...</td>\n",
       "      <td>...</td>\n",
       "      <td>...</td>\n",
       "    </tr>\n",
       "    <tr>\n",
       "      <td>959</td>\n",
       "      <td>araquanid-totem</td>\n",
       "      <td>https://pokeapi.co/api/v2/pokemon/10153/</td>\n",
       "    </tr>\n",
       "    <tr>\n",
       "      <td>960</td>\n",
       "      <td>togedemaru-totem</td>\n",
       "      <td>https://pokeapi.co/api/v2/pokemon/10154/</td>\n",
       "    </tr>\n",
       "    <tr>\n",
       "      <td>961</td>\n",
       "      <td>necrozma-dusk</td>\n",
       "      <td>https://pokeapi.co/api/v2/pokemon/10155/</td>\n",
       "    </tr>\n",
       "    <tr>\n",
       "      <td>962</td>\n",
       "      <td>necrozma-dawn</td>\n",
       "      <td>https://pokeapi.co/api/v2/pokemon/10156/</td>\n",
       "    </tr>\n",
       "    <tr>\n",
       "      <td>963</td>\n",
       "      <td>necrozma-ultra</td>\n",
       "      <td>https://pokeapi.co/api/v2/pokemon/10157/</td>\n",
       "    </tr>\n",
       "  </tbody>\n",
       "</table>\n",
       "<p>964 rows × 2 columns</p>\n",
       "</div>"
      ],
      "text/plain": [
       "                 name                                       url\n",
       "0           bulbasaur      https://pokeapi.co/api/v2/pokemon/1/\n",
       "1             ivysaur      https://pokeapi.co/api/v2/pokemon/2/\n",
       "2            venusaur      https://pokeapi.co/api/v2/pokemon/3/\n",
       "3          charmander      https://pokeapi.co/api/v2/pokemon/4/\n",
       "4          charmeleon      https://pokeapi.co/api/v2/pokemon/5/\n",
       "..                ...                                       ...\n",
       "959   araquanid-totem  https://pokeapi.co/api/v2/pokemon/10153/\n",
       "960  togedemaru-totem  https://pokeapi.co/api/v2/pokemon/10154/\n",
       "961     necrozma-dusk  https://pokeapi.co/api/v2/pokemon/10155/\n",
       "962     necrozma-dawn  https://pokeapi.co/api/v2/pokemon/10156/\n",
       "963    necrozma-ultra  https://pokeapi.co/api/v2/pokemon/10157/\n",
       "\n",
       "[964 rows x 2 columns]"
      ]
     },
     "execution_count": 10,
     "metadata": {},
     "output_type": "execute_result"
    }
   ],
   "source": [
    "pokes"
   ]
  },
  {
   "cell_type": "markdown",
   "metadata": {
    "ein.tags": "worksheet-0",
    "slideshow": {
     "slide_type": "-"
    }
   },
   "source": [
    "## Project: Live Exchange Rates\n",
    "\n",
    "Imagine that you work with financial assets which are denominated in different currencies. You analyze this data regularly, and want to create a \"transformation\" function that transforms all your assets into EUR prices, based on today's exchange rate. \n",
    "\n",
    "Your data with the local-currency-denominated value of each asset lives in a file called \"assets.csv\" which should be located in the same folder as this notebook. \n",
    "\n",
    "Write a \"data loading\" function that: \n",
    "\n",
    "1. Reads the data, given the path to the file. \n",
    "2. Returns a dataframe with an additional column that has the assets value in euros, as of today.\n",
    "\n",
    "Use this free API to get today's exchange rates: https://exchangeratesapi.io/. You will need to read the documentation and try it out to see how it works. \n",
    "\n",
    "HINT: Write a separate function to get the current exchange rates! That can be reused!"
   ]
  },
  {
   "cell_type": "markdown",
   "metadata": {},
   "source": [
    "### Understanding the project\n",
    "\n",
    "Before creating the function that solves the problem, lets play around with the elements of the problem"
   ]
  },
  {
   "cell_type": "code",
   "execution_count": 14,
   "metadata": {},
   "outputs": [],
   "source": [
    "df = pd.read_csv('assets.csv')"
   ]
  },
  {
   "cell_type": "code",
   "execution_count": 17,
   "metadata": {},
   "outputs": [
    {
     "data": {
      "text/html": [
       "<div>\n",
       "<style scoped>\n",
       "    .dataframe tbody tr th:only-of-type {\n",
       "        vertical-align: middle;\n",
       "    }\n",
       "\n",
       "    .dataframe tbody tr th {\n",
       "        vertical-align: top;\n",
       "    }\n",
       "\n",
       "    .dataframe thead th {\n",
       "        text-align: right;\n",
       "    }\n",
       "</style>\n",
       "<table border=\"1\" class=\"dataframe\">\n",
       "  <thead>\n",
       "    <tr style=\"text-align: right;\">\n",
       "      <th></th>\n",
       "      <th>value</th>\n",
       "      <th>curr</th>\n",
       "    </tr>\n",
       "  </thead>\n",
       "  <tbody>\n",
       "    <tr>\n",
       "      <td>0</td>\n",
       "      <td>48.910052</td>\n",
       "      <td>THB</td>\n",
       "    </tr>\n",
       "    <tr>\n",
       "      <td>1</td>\n",
       "      <td>16.505115</td>\n",
       "      <td>THB</td>\n",
       "    </tr>\n",
       "    <tr>\n",
       "      <td>2</td>\n",
       "      <td>30.370579</td>\n",
       "      <td>INR</td>\n",
       "    </tr>\n",
       "    <tr>\n",
       "      <td>3</td>\n",
       "      <td>14.126967</td>\n",
       "      <td>SEK</td>\n",
       "    </tr>\n",
       "    <tr>\n",
       "      <td>4</td>\n",
       "      <td>23.406904</td>\n",
       "      <td>HKD</td>\n",
       "    </tr>\n",
       "    <tr>\n",
       "      <td>...</td>\n",
       "      <td>...</td>\n",
       "      <td>...</td>\n",
       "    </tr>\n",
       "    <tr>\n",
       "      <td>995</td>\n",
       "      <td>13.593894</td>\n",
       "      <td>HRK</td>\n",
       "    </tr>\n",
       "    <tr>\n",
       "      <td>996</td>\n",
       "      <td>41.710860</td>\n",
       "      <td>ZAR</td>\n",
       "    </tr>\n",
       "    <tr>\n",
       "      <td>997</td>\n",
       "      <td>12.877760</td>\n",
       "      <td>AUD</td>\n",
       "    </tr>\n",
       "    <tr>\n",
       "      <td>998</td>\n",
       "      <td>29.561696</td>\n",
       "      <td>KRW</td>\n",
       "    </tr>\n",
       "    <tr>\n",
       "      <td>999</td>\n",
       "      <td>42.034297</td>\n",
       "      <td>RON</td>\n",
       "    </tr>\n",
       "  </tbody>\n",
       "</table>\n",
       "<p>1000 rows × 2 columns</p>\n",
       "</div>"
      ],
      "text/plain": [
       "         value curr\n",
       "0    48.910052  THB\n",
       "1    16.505115  THB\n",
       "2    30.370579  INR\n",
       "3    14.126967  SEK\n",
       "4    23.406904  HKD\n",
       "..         ...  ...\n",
       "995  13.593894  HRK\n",
       "996  41.710860  ZAR\n",
       "997  12.877760  AUD\n",
       "998  29.561696  KRW\n",
       "999  42.034297  RON\n",
       "\n",
       "[1000 rows x 2 columns]"
      ]
     },
     "execution_count": 17,
     "metadata": {},
     "output_type": "execute_result"
    }
   ],
   "source": [
    "df"
   ]
  },
  {
   "cell_type": "code",
   "execution_count": 33,
   "metadata": {},
   "outputs": [],
   "source": [
    "# Request latest exchange rate data of all currencies agaisnt the euro\n",
    "# Modify url with ?base=USD to get data for another currency\n",
    "res = requests.get('https://api.exchangeratesapi.io/latest')"
   ]
  },
  {
   "cell_type": "code",
   "execution_count": 42,
   "metadata": {},
   "outputs": [],
   "source": [
    "content = json.loads(res.content)"
   ]
  },
  {
   "cell_type": "code",
   "execution_count": 43,
   "metadata": {},
   "outputs": [],
   "source": [
    "rates = content['rates']"
   ]
  },
  {
   "cell_type": "code",
   "execution_count": 46,
   "metadata": {},
   "outputs": [
    {
     "data": {
      "text/plain": [
       "{'CAD': 1.4682,\n",
       " 'HKD': 8.7298,\n",
       " 'ISK': 138.1,\n",
       " 'PHP': 56.286,\n",
       " 'DKK': 7.4712,\n",
       " 'HUF': 328.33,\n",
       " 'CZK': 25.514,\n",
       " 'AUD': 1.6151,\n",
       " 'RON': 4.7547,\n",
       " 'SEK': 10.6993,\n",
       " 'IDR': 15640.93,\n",
       " 'INR': 78.816,\n",
       " 'BRL': 4.4437,\n",
       " 'RUB': 71.0786,\n",
       " 'HRK': 7.46,\n",
       " 'JPY': 120.43,\n",
       " 'THB': 33.623,\n",
       " 'CHF': 1.1013,\n",
       " 'SGD': 1.5129,\n",
       " 'PLN': 4.2535,\n",
       " 'BGN': 1.9558,\n",
       " 'TRY': 6.3761,\n",
       " 'CNY': 7.844,\n",
       " 'NOK': 10.1638,\n",
       " 'NZD': 1.7326,\n",
       " 'ZAR': 16.828,\n",
       " 'USD': 1.1139,\n",
       " 'MXN': 21.3164,\n",
       " 'ILS': 3.9272,\n",
       " 'GBP': 0.86008,\n",
       " 'KRW': 1300.09,\n",
       " 'MYR': 4.64}"
      ]
     },
     "execution_count": 46,
     "metadata": {},
     "output_type": "execute_result"
    }
   ],
   "source": [
    "rates"
   ]
  },
  {
   "cell_type": "code",
   "execution_count": 12,
   "metadata": {},
   "outputs": [],
   "source": [
    "def to_euro(rates, curr, amount):\n",
    "    \"\"\"Function that searchs for the specified currency in an exchange rate dictionary \n",
    "    and converts it into euros.\n",
    "    \n",
    "    Args:\n",
    "        rates (dict): A dictionary containing the exchange rates of several currencies to euro\n",
    "        curr (str): Abbreviation of the currency to be converted.\n",
    "        amount (float): Total amount of the currency to be converted.\n",
    "\n",
    "    Returns:\n",
    "        A float with the converted amounted into euros. None if the currency was not found.\n",
    "    \"\"\"\n",
    "    \n",
    "    try:\n",
    "        exchanged = amount/rates[curr]\n",
    "    except KeyError:\n",
    "        print('Currency not found, returned a missing value')\n",
    "        exchanged = None\n",
    "\n",
    "    return(exchanged)"
   ]
  },
  {
   "cell_type": "code",
   "execution_count": 16,
   "metadata": {},
   "outputs": [],
   "source": [
    "def load_data(path):\n",
    "    \"\"\"Function that loads a CSV file from the specified path as a Pandas DataFrame\n",
    "    and adds to it a new column (value_euros) with the value in euros of the assets\n",
    "    found in the CSV. Information on exchange rates is taken from the following API:\n",
    "    https://api.exchangeratesapi.io\n",
    "    \n",
    "    Args:\n",
    "        path (str): A path that specifies the location of a CSV file.\n",
    "\n",
    "    Returns:\n",
    "        A Pandas DataFrame object with a new column (value_euros).\n",
    "    \"\"\"\n",
    "    \n",
    "    #Loading the CSV file from the path as a Pandas DataFrame\n",
    "    df = pd.read_csv(path)\n",
    "    \n",
    "    #Setting up connection with the API and extracting the exchange rates data\n",
    "    res = requests.get('https://api.exchangeratesapi.io/latest')\n",
    "    content = json.loads(res.content)\n",
    "    rates = content['rates']\n",
    "    \n",
    "    #Iterating over the elements of the DataFrame\n",
    "    exchanged = []\n",
    "    for i in range(len(df)):\n",
    "        exchanged.append(to_euro(rates, df.curr[i], df.value[i]))\n",
    "        \n",
    "    df['value_euros'] = exchanged\n",
    "    return(df)\n",
    "    "
   ]
  },
  {
   "cell_type": "code",
   "execution_count": 17,
   "metadata": {},
   "outputs": [],
   "source": [
    "df_e = load_data('assets.csv')"
   ]
  },
  {
   "cell_type": "code",
   "execution_count": 18,
   "metadata": {},
   "outputs": [
    {
     "data": {
      "text/html": [
       "<div>\n",
       "<style scoped>\n",
       "    .dataframe tbody tr th:only-of-type {\n",
       "        vertical-align: middle;\n",
       "    }\n",
       "\n",
       "    .dataframe tbody tr th {\n",
       "        vertical-align: top;\n",
       "    }\n",
       "\n",
       "    .dataframe thead th {\n",
       "        text-align: right;\n",
       "    }\n",
       "</style>\n",
       "<table border=\"1\" class=\"dataframe\">\n",
       "  <thead>\n",
       "    <tr style=\"text-align: right;\">\n",
       "      <th></th>\n",
       "      <th>value</th>\n",
       "      <th>curr</th>\n",
       "      <th>value_euros</th>\n",
       "    </tr>\n",
       "  </thead>\n",
       "  <tbody>\n",
       "    <tr>\n",
       "      <td>0</td>\n",
       "      <td>48.910052</td>\n",
       "      <td>THB</td>\n",
       "      <td>1.454661</td>\n",
       "    </tr>\n",
       "    <tr>\n",
       "      <td>1</td>\n",
       "      <td>16.505115</td>\n",
       "      <td>THB</td>\n",
       "      <td>0.490888</td>\n",
       "    </tr>\n",
       "    <tr>\n",
       "      <td>2</td>\n",
       "      <td>30.370579</td>\n",
       "      <td>INR</td>\n",
       "      <td>0.385335</td>\n",
       "    </tr>\n",
       "    <tr>\n",
       "      <td>3</td>\n",
       "      <td>14.126967</td>\n",
       "      <td>SEK</td>\n",
       "      <td>1.320364</td>\n",
       "    </tr>\n",
       "    <tr>\n",
       "      <td>4</td>\n",
       "      <td>23.406904</td>\n",
       "      <td>HKD</td>\n",
       "      <td>2.681265</td>\n",
       "    </tr>\n",
       "    <tr>\n",
       "      <td>...</td>\n",
       "      <td>...</td>\n",
       "      <td>...</td>\n",
       "      <td>...</td>\n",
       "    </tr>\n",
       "    <tr>\n",
       "      <td>995</td>\n",
       "      <td>13.593894</td>\n",
       "      <td>HRK</td>\n",
       "      <td>1.822238</td>\n",
       "    </tr>\n",
       "    <tr>\n",
       "      <td>996</td>\n",
       "      <td>41.710860</td>\n",
       "      <td>ZAR</td>\n",
       "      <td>2.478658</td>\n",
       "    </tr>\n",
       "    <tr>\n",
       "      <td>997</td>\n",
       "      <td>12.877760</td>\n",
       "      <td>AUD</td>\n",
       "      <td>7.973352</td>\n",
       "    </tr>\n",
       "    <tr>\n",
       "      <td>998</td>\n",
       "      <td>29.561696</td>\n",
       "      <td>KRW</td>\n",
       "      <td>0.022738</td>\n",
       "    </tr>\n",
       "    <tr>\n",
       "      <td>999</td>\n",
       "      <td>42.034297</td>\n",
       "      <td>RON</td>\n",
       "      <td>8.840578</td>\n",
       "    </tr>\n",
       "  </tbody>\n",
       "</table>\n",
       "<p>1000 rows × 3 columns</p>\n",
       "</div>"
      ],
      "text/plain": [
       "         value curr  value_euros\n",
       "0    48.910052  THB     1.454661\n",
       "1    16.505115  THB     0.490888\n",
       "2    30.370579  INR     0.385335\n",
       "3    14.126967  SEK     1.320364\n",
       "4    23.406904  HKD     2.681265\n",
       "..         ...  ...          ...\n",
       "995  13.593894  HRK     1.822238\n",
       "996  41.710860  ZAR     2.478658\n",
       "997  12.877760  AUD     7.973352\n",
       "998  29.561696  KRW     0.022738\n",
       "999  42.034297  RON     8.840578\n",
       "\n",
       "[1000 rows x 3 columns]"
      ]
     },
     "execution_count": 18,
     "metadata": {},
     "output_type": "execute_result"
    }
   ],
   "source": [
    "df_e"
   ]
  }
 ],
 "metadata": {
  "kernelspec": {
   "display_name": "Python 3",
   "language": "python",
   "name": "python3"
  },
  "language_info": {
   "codemirror_mode": {
    "name": "ipython",
    "version": 3
   },
   "file_extension": ".py",
   "mimetype": "text/x-python",
   "name": "python",
   "nbconvert_exporter": "python",
   "pygments_lexer": "ipython3",
   "version": "3.7.3"
  },
  "name": "exercises.ipynb"
 },
 "nbformat": 4,
 "nbformat_minor": 2
}

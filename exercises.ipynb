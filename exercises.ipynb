{
 "cells": [
  {
   "cell_type": "markdown",
   "metadata": {
    "ein.tags": "worksheet-0",
    "slideshow": {
     "slide_type": "-"
    }
   },
   "source": [
    "# Making HTTP Requests\n",
    "\n",
    "In Python, there are many libraries to make HTTP requests. We will use a 3rd-party library called \"requests\", which is very easy to use. \n",
    "\n",
    "Making a \"GET\" request is as simple as: \n",
    "\n",
    "```python\n",
    "import requests\n",
    "\n",
    "res = requests.get(url) # returns a \"Response\" object\n",
    "res.content # has the \"body\" of the response\n",
    "```\n",
    "\n",
    "You might need to install the requests library! \n",
    "\n",
    "You can do that with the following code in a Jupyter cell: \n",
    "\n",
    "```python\n",
    "! pip install requests\n",
    "```\n",
    "\n",
    "Or, if you're using anaconda, optionally you can also do: \n",
    "\n",
    "```python\n",
    "! conda install -c anaconda requests\n",
    "```"
   ]
  },
  {
   "cell_type": "markdown",
   "metadata": {
    "ein.tags": "worksheet-0",
    "slideshow": {
     "slide_type": "-"
    }
   },
   "source": [
    "## Parsing JSON data\n",
    "\n",
    "To parse JSON data in Python, we will use the \"json\" module: \n",
    "\n",
    "```python\n",
    "import json\n",
    "```\n",
    "\n",
    "Read more about the module on the [documentation page](https://docs.python.org/3/library/json.html)!\n",
    "\n",
    "All we care about for this part is the method \"loads\", which turns JSON data into a Python object: \n",
    "\n",
    "```python\n",
    "json.loads(my_string_encoded_json)\n",
    "```"
   ]
  },
  {
   "cell_type": "markdown",
   "metadata": {
    "ein.tags": "worksheet-0",
    "slideshow": {
     "slide_type": "-"
    }
   },
   "source": [
    "## Pokemon API\n",
    "\n",
    "There is a simple, open API called \"pokeapi\" that allows us to make requests and see how to use APIs. Like everything, we first look at the documentation: \n",
    "\n",
    "https://pokeapi.co/docs/v2.html"
   ]
  },
  {
   "cell_type": "code",
   "execution_count": null,
   "metadata": {
    "autoscroll": false,
    "collapsed": false,
    "ein.hycell": false,
    "ein.tags": "worksheet-0",
    "slideshow": {
     "slide_type": "-"
    }
   },
   "outputs": [],
   "source": [
    "# Let's see how to make a get request to the API: \n",
    "import requests\n",
    "import json\n",
    "\n",
    "res = requests.get('https://pokeapi.co/api/v2/berry')\n",
    "json.loads(res.content)"
   ]
  },
  {
   "cell_type": "code",
   "execution_count": null,
   "metadata": {
    "autoscroll": false,
    "collapsed": false,
    "ein.hycell": false,
    "ein.tags": "worksheet-0",
    "slideshow": {
     "slide_type": "-"
    }
   },
   "outputs": [],
   "source": [
    "# Challenge: \n",
    "# Create a Dataframe with all the Pokemon names and their URLs. \n",
    "\n",
    "def get_pokes(url):\n",
    "    # Make the HTTP request to the given url. \n",
    "    # Parse the response as json\n",
    "    # return the \"next\" and the \"results\" (as a 2-tuple!)\n",
    "    # HINT: What should you return if there is no \"next\" \n",
    "    # (You have collected all the data from the API)\n",
    "    pass\n",
    "\n",
    "\n",
    "def catch_em_all(url):\n",
    "\n",
    "    # HINT: Use a while loop and break/return\n",
    "    # when there is no longer a 'next' returned\n",
    "    # from the API!\n",
    "\n",
    "    # HINT: Use the \"get_pokes\" function to \n",
    "    # do all the work related to the API\n",
    "    pass\n",
    "        \n",
    "    \n",
    "list_of_pokes = catch_em_all('https://pokeapi.co/api/v2/pokemon')\n",
    "\n",
    "# This data is most naturally represented as a list of dictionaries. \n",
    "# How can we create a dataframe from a list of dictionaries? \n",
    "# Try to find out on your own, from the internet!\n",
    "\n",
    "# TODO: turn list_of_pokes into a dataframe."
   ]
  },
  {
   "cell_type": "markdown",
   "metadata": {
    "ein.tags": "worksheet-0",
    "slideshow": {
     "slide_type": "-"
    }
   },
   "source": [
    "## Project: Live Exchange Rates\n",
    "\n",
    "Imagine that you work with financial assets which are denominated in different currencies. You analyze this data regularly, and want to create a \"transformation\" function that transforms all your assets into EUR prices, based on today's exchange rate. \n",
    "\n",
    "Your data with the local-currency-denominated value of each asset lives in a file called \"assets.csv\" which should be located in the same folder as this notebook. \n",
    "\n",
    "Write a \"data loading\" function that: \n",
    "\n",
    "1. Reads the data, given the path to the file. \n",
    "2. Returns a dataframe with an additional column that has the assets value in euros, as of today.\n",
    "\n",
    "Use this free API to get today's exchange rates: https://exchangeratesapi.io/. You will need to read the documentation and try it out to see how it works. \n",
    "\n",
    "HINT: Write a separate function to get the current exchange rates! That can be reused!"
   ]
  }
 ],
 "metadata": {
  "kernelspec": {
   "argv": [
    "python",
    "-m",
    "ipykernel_launcher",
    "-f",
    "{connection_file}"
   ],
   "display_name": "Python 3",
   "env": null,
   "interrupt_mode": "signal",
   "language": "python",
   "metadata": null,
   "name": "python3"
  },
  "language_info": {
   "codemirror_mode": {
    "name": "ipython",
    "version": 3
   },
   "file_extension": ".py",
   "mimetype": "text/x-python",
   "name": "python",
   "nbconvert_exporter": "python",
   "pygments_lexer": "ipython3",
   "version": "3.7.3"
  },
  "name": "exercises.ipynb"
 },
 "nbformat": 4,
 "nbformat_minor": 2
}
